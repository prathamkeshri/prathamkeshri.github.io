{
 "cells": [
  {
   "cell_type": "code",
   "execution_count": 43,
   "id": "3917ea7f",
   "metadata": {},
   "outputs": [],
   "source": [
    "import matplotlib\n",
    "import matplotlib.pyplot as plt # this library would be used for plotting the graph\n",
    "import datetime"
   ]
  },
  {
   "cell_type": "code",
   "execution_count": 44,
   "id": "5c2ed0f8",
   "metadata": {},
   "outputs": [],
   "source": [
    "day = ['2022/01/21', '2022/01/22', '2022/01/23', '2022/01/24', '2022/01/25']"
   ]
  },
  {
   "cell_type": "code",
   "execution_count": 45,
   "id": "a0cb0472",
   "metadata": {},
   "outputs": [],
   "source": [
    "amazonstockprice = [3125.98, 3033.35, 2852.86, 2890.88, 2799.72]"
   ]
  },
  {
   "cell_type": "code",
   "execution_count": 46,
   "id": "e7128369",
   "metadata": {},
   "outputs": [
    {
     "data": {
      "text/plain": [
       "Text(0, 0.5, 'Amazon Stock price in $')"
      ]
     },
     "execution_count": 46,
     "metadata": {},
     "output_type": "execute_result"
    },
    {
     "data": {
      "image/png": "[encoded data removed]",
      "text/plain": [
       "<Figure size 432x288 with 1 Axes>"
      ]
     },
     "metadata": {
      "needs_background": "light"
     },
     "output_type": "display_data"
    }
   ],
   "source": [
    "plt.fill_between(day,amazonstockprice) # using fill_between() function to make the area covered under the points\n",
    "plt.xlabel('Days') #represents heading for x-axis data i.e. day\n",
    "plt.ylabel('Amazon Stock price in $') #represents heading for y-axis data i.e. amazonstockprice"
   ]
  }
 ],
 "metadata": {
  "kernelspec": {
   "display_name": "Python 3 (ipykernel)",
   "language": "python",
   "name": "python3"
  },
  "language_info": {
   "codemirror_mode": {
    "name": "ipython",
    "version": 3
   },
   "file_extension": ".py",
   "mimetype": "text/x-python",
   "name": "python",
   "nbconvert_exporter": "python",
   "pygments_lexer": "ipython3",
   "version": "3.7.12"
  }
 },
 "nbformat": 4,
 "nbformat_minor": 5
}
