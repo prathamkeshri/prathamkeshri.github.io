{
 "cells": [
  {
   "cell_type": "code",
   "execution_count": 1,
   "id": "3917ea7f",
   "metadata": {},
   "outputs": [],
   "source": [
    "import matplotlib\n",
    "import matplotlib.pyplot as plt # this library would be used for plotting the graph\n",
    "import datetime"
   ]
  },
  {
   "cell_type": "code",
   "execution_count": 2,
   "id": "5c2ed0f8",
   "metadata": {},
   "outputs": [],
   "source": [
    "day = ['2022/02/07', '2022/02/08', '2022/02/09', '2022/02/10', '2022/02/11']"
   ]
  },
  {
   "cell_type": "code",
   "execution_count": 3,
   "id": "a0cb0472",
   "metadata": {},
   "outputs": [],
   "source": [
    "adobestockprice = [507.10, 511.31, 521.75, 495.02, 473.97]"
   ]
  },
  {
   "cell_type": "code",
   "execution_count": 5,
   "id": "e7128369",
   "metadata": {},
   "outputs": [
    {
     "data": {
      "text/plain": [
       "Text(0, 0.5, 'Adobe Stock price in $')"
      ]
     },
     "execution_count": 5,
     "metadata": {},
     "output_type": "execute_result"
    },
    {
     "data": {
      "image/png": "[encoded data removed]",
      "text/plain": [
       "<Figure size 432x288 with 1 Axes>"
      ]
     },
     "metadata": {
      "needs_background": "light"
     },
     "output_type": "display_data"
    }
   ],
   "source": [
    "plt.fill_between(day,adobestockprice) # using fill_between() function to make the area covered under the points\n",
    "plt.xlabel('Days') #represents heading for x-axis data i.e. day\n",
    "plt.ylabel('Adobe Stock price in $') #represents heading for y-axis data i.e. adobestockprice"
   ]
  },
  {
   "cell_type": "code",
   "execution_count": null,
   "id": "4f57f4b2",
   "metadata": {},
   "outputs": [],
   "source": []
  }
 ],
 "metadata": {
  "kernelspec": {
   "display_name": "Python 3 (ipykernel)",
   "language": "python",
   "name": "python3"
  },
  "language_info": {
   "codemirror_mode": {
    "name": "ipython",
    "version": 3
   },
   "file_extension": ".py",
   "mimetype": "text/x-python",
   "name": "python",
   "nbconvert_exporter": "python",
   "pygments_lexer": "ipython3",
   "version": "3.7.12"
  }
 },
 "nbformat": 4,
 "nbformat_minor": 5
}
