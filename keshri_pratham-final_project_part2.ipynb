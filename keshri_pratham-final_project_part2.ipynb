{
 "cells": [
  {
   "cell_type": "markdown",
   "id": "b5b6c179",
   "metadata": {},
   "source": [
    "# Introduction to the dataset being explored!\n",
    "\n",
    "### Summarize the characteristics of the dataset in words: what does it represent, what are the fields/columns/rows, what data types are they, etc (30 pts)\n",
    "\n",
    "\n",
    "The Meteoritical Society gathers data about meteorites that have fallen to Earth from space. This dataset is the sample data, which contains 1000 rows from the larger dataset's 45,000 rows. It contains information on over 1000 meteorites that have impacted our planet, including their name, id, nametype, recclass, mass fall, position, year, reclat, reclong, and geolocation.\n",
    "\n",
    "The dataset contains the following variables:\n",
    "\n",
    "->name: Meteorite name\n",
    "\n",
    "->id: Meteorite's unique identifier\n",
    "\n",
    "->nametype: 1. valid: a typical meteorite / 2. relict: a meteorite that has been highly degraded by weather on Earth\n",
    "\n",
    "->recclass: Meteorite Classficcation\n",
    "\n",
    "->mass: Meteorite's mass in grams\n",
    "\n",
    "->fall: 1. Fell: the meteorite's fall was observed / 2. Found: the meteorite's fall was not observed\n",
    "\n",
    "->year: Year of Falling or observing of Meteorite\n",
    "\n",
    "->reclat: Meteorite's landing lattitude\n",
    "\n",
    "->reclong: Meteorite's landing longitude\n",
    "\n",
    "->GeoLocation: reclat and reclong as comma separated tuple enclosed in parentheses"
   ]
  },
  {
   "cell_type": "markdown",
   "id": "467f7899",
   "metadata": {},
   "source": [
    "### The datatype of the columns present in the dataset can be retreived using meteorite.info() code which gives the following result -:\n",
    "\n",
    "->name: object\n",
    "\n",
    "->id: int64\n",
    "\n",
    "->nametype: object\n",
    "\n",
    "->recclass: object\n",
    "\n",
    "->mass: float64\n",
    "\n",
    "->fall: object\n",
    "\n",
    "->year: object\n",
    "\n",
    "->reclat: float64\n",
    "\n",
    "->reclong: float64\n",
    "\n",
    "->GeoLocation: object"
   ]
  },
  {
   "cell_type": "markdown",
   "id": "477754ae",
   "metadata": {},
   "source": [
    "### What is the \"name\" of the dataset?\n",
    "\n",
    "The dataset is called 'Earth_Meteorite_Landings'.\n",
    "\n",
    "### Where did you obtain it?\n",
    "\n",
    "The dataset is available on NASA website under Space-Science -> Meteorite-Landings section.\n",
    "\n",
    "### Where can we obtain it? (i.e., URL)\n",
    "\n",
    "There are 2 versions of the dataset that is available on NASA's website, one is with 45,716 rows which is the full dataset and can be found here https://data.nasa.gov/Space-Science/Meteorite-Landings/gh4g-9sfh/data , for the project I've selected a sample dataset having 1000 entires which can be found here https://data.nasa.gov/resource/gh4g-9sfh.json \n",
    "\n",
    "### What is the license of the dataset? What are we allowed to do with it?\n",
    "\n",
    "This dataset is publicly available on the NASA website and we are allowed to explore it.\n",
    "Privacy policy can be found here https://www.nasa.gov/about/highlights/HP_Privacy.html\n",
    "\n",
    "### How big is it in file size and in items?\n",
    "\n",
    "The size of the file (sample data used for analysis) is 242 KB and has 1000 rows of entries."
   ]
  },
  {
   "cell_type": "markdown",
   "id": "908e68e9",
   "metadata": {},
   "source": [
    "### Part 2 Final Project\n"
   ]
  },
  {
   "cell_type": "code",
   "execution_count": 1,
   "id": "5898fbd8",
   "metadata": {},
   "outputs": [],
   "source": [
    "#Reading other useful libraries for Part2\n",
    "import json\n",
    "import pandas as pd\n",
    "import matplotlib.pyplot as plt\n",
    "import numpy as np\n",
    "import bqplot\n",
    "import ipywidgets\n",
    "import bqplot.pyplot"
   ]
  },
  {
   "cell_type": "code",
   "execution_count": 2,
   "id": "cc0b38c5",
   "metadata": {},
   "outputs": [
    {
     "data": {
      "text/html": [
       "<div>\n",
       "<style scoped>\n",
       "    .dataframe tbody tr th:only-of-type {\n",
       "        vertical-align: middle;\n",
       "    }\n",
       "\n",
       "    .dataframe tbody tr th {\n",
       "        vertical-align: top;\n",
       "    }\n",
       "\n",
       "    .dataframe thead th {\n",
       "        text-align: right;\n",
       "    }\n",
       "</style>\n",
       "<table border=\"1\" class=\"dataframe\">\n",
       "  <thead>\n",
       "    <tr style=\"text-align: right;\">\n",
       "      <th></th>\n",
       "      <th>name</th>\n",
       "      <th>id</th>\n",
       "      <th>nametype</th>\n",
       "      <th>recclass</th>\n",
       "      <th>mass</th>\n",
       "      <th>fall</th>\n",
       "      <th>year</th>\n",
       "      <th>reclat</th>\n",
       "      <th>reclong</th>\n",
       "      <th>geolocation</th>\n",
       "      <th>:@computed_region_cbhk_fwbd</th>\n",
       "      <th>:@computed_region_nnqa_25f4</th>\n",
       "    </tr>\n",
       "  </thead>\n",
       "  <tbody>\n",
       "    <tr>\n",
       "      <th>0</th>\n",
       "      <td>Aachen</td>\n",
       "      <td>1</td>\n",
       "      <td>Valid</td>\n",
       "      <td>L5</td>\n",
       "      <td>21.0</td>\n",
       "      <td>Fell</td>\n",
       "      <td>1880-01-01T00:00:00.000</td>\n",
       "      <td>50.77500</td>\n",
       "      <td>6.08333</td>\n",
       "      <td>{'latitude': '50.775', 'longitude': '6.08333'}</td>\n",
       "      <td>NaN</td>\n",
       "      <td>NaN</td>\n",
       "    </tr>\n",
       "    <tr>\n",
       "      <th>1</th>\n",
       "      <td>Aarhus</td>\n",
       "      <td>2</td>\n",
       "      <td>Valid</td>\n",
       "      <td>H6</td>\n",
       "      <td>720.0</td>\n",
       "      <td>Fell</td>\n",
       "      <td>1951-01-01T00:00:00.000</td>\n",
       "      <td>56.18333</td>\n",
       "      <td>10.23333</td>\n",
       "      <td>{'latitude': '56.18333', 'longitude': '10.23333'}</td>\n",
       "      <td>NaN</td>\n",
       "      <td>NaN</td>\n",
       "    </tr>\n",
       "    <tr>\n",
       "      <th>2</th>\n",
       "      <td>Abee</td>\n",
       "      <td>6</td>\n",
       "      <td>Valid</td>\n",
       "      <td>EH4</td>\n",
       "      <td>107000.0</td>\n",
       "      <td>Fell</td>\n",
       "      <td>1952-01-01T00:00:00.000</td>\n",
       "      <td>54.21667</td>\n",
       "      <td>-113.00000</td>\n",
       "      <td>{'latitude': '54.21667', 'longitude': '-113.0'}</td>\n",
       "      <td>NaN</td>\n",
       "      <td>NaN</td>\n",
       "    </tr>\n",
       "    <tr>\n",
       "      <th>3</th>\n",
       "      <td>Acapulco</td>\n",
       "      <td>10</td>\n",
       "      <td>Valid</td>\n",
       "      <td>Acapulcoite</td>\n",
       "      <td>1914.0</td>\n",
       "      <td>Fell</td>\n",
       "      <td>1976-01-01T00:00:00.000</td>\n",
       "      <td>16.88333</td>\n",
       "      <td>-99.90000</td>\n",
       "      <td>{'latitude': '16.88333', 'longitude': '-99.9'}</td>\n",
       "      <td>NaN</td>\n",
       "      <td>NaN</td>\n",
       "    </tr>\n",
       "    <tr>\n",
       "      <th>4</th>\n",
       "      <td>Achiras</td>\n",
       "      <td>370</td>\n",
       "      <td>Valid</td>\n",
       "      <td>L6</td>\n",
       "      <td>780.0</td>\n",
       "      <td>Fell</td>\n",
       "      <td>1902-01-01T00:00:00.000</td>\n",
       "      <td>-33.16667</td>\n",
       "      <td>-64.95000</td>\n",
       "      <td>{'latitude': '-33.16667', 'longitude': '-64.95'}</td>\n",
       "      <td>NaN</td>\n",
       "      <td>NaN</td>\n",
       "    </tr>\n",
       "    <tr>\n",
       "      <th>...</th>\n",
       "      <td>...</td>\n",
       "      <td>...</td>\n",
       "      <td>...</td>\n",
       "      <td>...</td>\n",
       "      <td>...</td>\n",
       "      <td>...</td>\n",
       "      <td>...</td>\n",
       "      <td>...</td>\n",
       "      <td>...</td>\n",
       "      <td>...</td>\n",
       "      <td>...</td>\n",
       "      <td>...</td>\n",
       "    </tr>\n",
       "    <tr>\n",
       "      <th>995</th>\n",
       "      <td>Tirupati</td>\n",
       "      <td>24009</td>\n",
       "      <td>Valid</td>\n",
       "      <td>H6</td>\n",
       "      <td>230.0</td>\n",
       "      <td>Fell</td>\n",
       "      <td>1934-01-01T00:00:00.000</td>\n",
       "      <td>13.63333</td>\n",
       "      <td>79.41667</td>\n",
       "      <td>{'latitude': '13.63333', 'longitude': '79.41667'}</td>\n",
       "      <td>NaN</td>\n",
       "      <td>NaN</td>\n",
       "    </tr>\n",
       "    <tr>\n",
       "      <th>996</th>\n",
       "      <td>Tissint</td>\n",
       "      <td>54823</td>\n",
       "      <td>Valid</td>\n",
       "      <td>Martian (shergottite)</td>\n",
       "      <td>7000.0</td>\n",
       "      <td>Fell</td>\n",
       "      <td>2011-01-01T00:00:00.000</td>\n",
       "      <td>29.48195</td>\n",
       "      <td>-7.61123</td>\n",
       "      <td>{'latitude': '29.48195', 'longitude': '-7.61123'}</td>\n",
       "      <td>NaN</td>\n",
       "      <td>NaN</td>\n",
       "    </tr>\n",
       "    <tr>\n",
       "      <th>997</th>\n",
       "      <td>Tjabe</td>\n",
       "      <td>24011</td>\n",
       "      <td>Valid</td>\n",
       "      <td>H6</td>\n",
       "      <td>20000.0</td>\n",
       "      <td>Fell</td>\n",
       "      <td>1869-01-01T00:00:00.000</td>\n",
       "      <td>-7.08333</td>\n",
       "      <td>111.53333</td>\n",
       "      <td>{'latitude': '-7.08333', 'longitude': '111.533...</td>\n",
       "      <td>NaN</td>\n",
       "      <td>NaN</td>\n",
       "    </tr>\n",
       "    <tr>\n",
       "      <th>998</th>\n",
       "      <td>Tjerebon</td>\n",
       "      <td>24012</td>\n",
       "      <td>Valid</td>\n",
       "      <td>L5</td>\n",
       "      <td>16500.0</td>\n",
       "      <td>Fell</td>\n",
       "      <td>1922-01-01T00:00:00.000</td>\n",
       "      <td>-6.66667</td>\n",
       "      <td>106.58333</td>\n",
       "      <td>{'latitude': '-6.66667', 'longitude': '106.583...</td>\n",
       "      <td>NaN</td>\n",
       "      <td>NaN</td>\n",
       "    </tr>\n",
       "    <tr>\n",
       "      <th>999</th>\n",
       "      <td>Tomakovka</td>\n",
       "      <td>24019</td>\n",
       "      <td>Valid</td>\n",
       "      <td>LL6</td>\n",
       "      <td>600.0</td>\n",
       "      <td>Fell</td>\n",
       "      <td>1905-01-01T00:00:00.000</td>\n",
       "      <td>47.85000</td>\n",
       "      <td>34.76667</td>\n",
       "      <td>{'latitude': '47.85', 'longitude': '34.76667'}</td>\n",
       "      <td>NaN</td>\n",
       "      <td>NaN</td>\n",
       "    </tr>\n",
       "  </tbody>\n",
       "</table>\n",
       "<p>1000 rows × 12 columns</p>\n",
       "</div>"
      ],
      "text/plain": [
       "          name     id nametype               recclass      mass  fall  \\\n",
       "0       Aachen      1    Valid                     L5      21.0  Fell   \n",
       "1       Aarhus      2    Valid                     H6     720.0  Fell   \n",
       "2         Abee      6    Valid                    EH4  107000.0  Fell   \n",
       "3     Acapulco     10    Valid            Acapulcoite    1914.0  Fell   \n",
       "4      Achiras    370    Valid                     L6     780.0  Fell   \n",
       "..         ...    ...      ...                    ...       ...   ...   \n",
       "995   Tirupati  24009    Valid                     H6     230.0  Fell   \n",
       "996    Tissint  54823    Valid  Martian (shergottite)    7000.0  Fell   \n",
       "997      Tjabe  24011    Valid                     H6   20000.0  Fell   \n",
       "998   Tjerebon  24012    Valid                     L5   16500.0  Fell   \n",
       "999  Tomakovka  24019    Valid                    LL6     600.0  Fell   \n",
       "\n",
       "                        year    reclat    reclong  \\\n",
       "0    1880-01-01T00:00:00.000  50.77500    6.08333   \n",
       "1    1951-01-01T00:00:00.000  56.18333   10.23333   \n",
       "2    1952-01-01T00:00:00.000  54.21667 -113.00000   \n",
       "3    1976-01-01T00:00:00.000  16.88333  -99.90000   \n",
       "4    1902-01-01T00:00:00.000 -33.16667  -64.95000   \n",
       "..                       ...       ...        ...   \n",
       "995  1934-01-01T00:00:00.000  13.63333   79.41667   \n",
       "996  2011-01-01T00:00:00.000  29.48195   -7.61123   \n",
       "997  1869-01-01T00:00:00.000  -7.08333  111.53333   \n",
       "998  1922-01-01T00:00:00.000  -6.66667  106.58333   \n",
       "999  1905-01-01T00:00:00.000  47.85000   34.76667   \n",
       "\n",
       "                                           geolocation  \\\n",
       "0       {'latitude': '50.775', 'longitude': '6.08333'}   \n",
       "1    {'latitude': '56.18333', 'longitude': '10.23333'}   \n",
       "2      {'latitude': '54.21667', 'longitude': '-113.0'}   \n",
       "3       {'latitude': '16.88333', 'longitude': '-99.9'}   \n",
       "4     {'latitude': '-33.16667', 'longitude': '-64.95'}   \n",
       "..                                                 ...   \n",
       "995  {'latitude': '13.63333', 'longitude': '79.41667'}   \n",
       "996  {'latitude': '29.48195', 'longitude': '-7.61123'}   \n",
       "997  {'latitude': '-7.08333', 'longitude': '111.533...   \n",
       "998  {'latitude': '-6.66667', 'longitude': '106.583...   \n",
       "999     {'latitude': '47.85', 'longitude': '34.76667'}   \n",
       "\n",
       "     :@computed_region_cbhk_fwbd  :@computed_region_nnqa_25f4  \n",
       "0                            NaN                          NaN  \n",
       "1                            NaN                          NaN  \n",
       "2                            NaN                          NaN  \n",
       "3                            NaN                          NaN  \n",
       "4                            NaN                          NaN  \n",
       "..                           ...                          ...  \n",
       "995                          NaN                          NaN  \n",
       "996                          NaN                          NaN  \n",
       "997                          NaN                          NaN  \n",
       "998                          NaN                          NaN  \n",
       "999                          NaN                          NaN  \n",
       "\n",
       "[1000 rows x 12 columns]"
      ]
     },
     "execution_count": 2,
     "metadata": {},
     "output_type": "execute_result"
    }
   ],
   "source": [
    "#Reading the dataset again for Part as additional filtering may be required and manipulation to year field\n",
    "meteor_landing = pd.read_json(\"Earth_Meteorite_Landings.json\") #reading the meteorite json dataset again\n",
    "meteor_landing"
   ]
  },
  {
   "cell_type": "code",
   "execution_count": 3,
   "id": "b12ab67b",
   "metadata": {},
   "outputs": [],
   "source": [
    "meteor_landing = meteor_landing.drop([\":@computed_region_cbhk_fwbd\", \":@computed_region_nnqa_25f4\"], axis=1) #dropping extra fields which are of no use\n"
   ]
  },
  {
   "cell_type": "code",
   "execution_count": 4,
   "id": "715ec947",
   "metadata": {},
   "outputs": [
    {
     "data": {
      "text/html": [
       "<div>\n",
       "<style scoped>\n",
       "    .dataframe tbody tr th:only-of-type {\n",
       "        vertical-align: middle;\n",
       "    }\n",
       "\n",
       "    .dataframe tbody tr th {\n",
       "        vertical-align: top;\n",
       "    }\n",
       "\n",
       "    .dataframe thead th {\n",
       "        text-align: right;\n",
       "    }\n",
       "</style>\n",
       "<table border=\"1\" class=\"dataframe\">\n",
       "  <thead>\n",
       "    <tr style=\"text-align: right;\">\n",
       "      <th></th>\n",
       "      <th>name</th>\n",
       "      <th>id</th>\n",
       "      <th>nametype</th>\n",
       "      <th>recclass</th>\n",
       "      <th>mass</th>\n",
       "      <th>fall</th>\n",
       "      <th>year</th>\n",
       "      <th>reclat</th>\n",
       "      <th>reclong</th>\n",
       "      <th>geolocation</th>\n",
       "    </tr>\n",
       "  </thead>\n",
       "  <tbody>\n",
       "    <tr>\n",
       "      <th>0</th>\n",
       "      <td>Aachen</td>\n",
       "      <td>1</td>\n",
       "      <td>Valid</td>\n",
       "      <td>L5</td>\n",
       "      <td>21.0</td>\n",
       "      <td>Fell</td>\n",
       "      <td>1880-01-01T00:00:00.000</td>\n",
       "      <td>50.77500</td>\n",
       "      <td>6.08333</td>\n",
       "      <td>{'latitude': '50.775', 'longitude': '6.08333'}</td>\n",
       "    </tr>\n",
       "    <tr>\n",
       "      <th>1</th>\n",
       "      <td>Aarhus</td>\n",
       "      <td>2</td>\n",
       "      <td>Valid</td>\n",
       "      <td>H6</td>\n",
       "      <td>720.0</td>\n",
       "      <td>Fell</td>\n",
       "      <td>1951-01-01T00:00:00.000</td>\n",
       "      <td>56.18333</td>\n",
       "      <td>10.23333</td>\n",
       "      <td>{'latitude': '56.18333', 'longitude': '10.23333'}</td>\n",
       "    </tr>\n",
       "    <tr>\n",
       "      <th>2</th>\n",
       "      <td>Abee</td>\n",
       "      <td>6</td>\n",
       "      <td>Valid</td>\n",
       "      <td>EH4</td>\n",
       "      <td>107000.0</td>\n",
       "      <td>Fell</td>\n",
       "      <td>1952-01-01T00:00:00.000</td>\n",
       "      <td>54.21667</td>\n",
       "      <td>-113.00000</td>\n",
       "      <td>{'latitude': '54.21667', 'longitude': '-113.0'}</td>\n",
       "    </tr>\n",
       "    <tr>\n",
       "      <th>3</th>\n",
       "      <td>Acapulco</td>\n",
       "      <td>10</td>\n",
       "      <td>Valid</td>\n",
       "      <td>Acapulcoite</td>\n",
       "      <td>1914.0</td>\n",
       "      <td>Fell</td>\n",
       "      <td>1976-01-01T00:00:00.000</td>\n",
       "      <td>16.88333</td>\n",
       "      <td>-99.90000</td>\n",
       "      <td>{'latitude': '16.88333', 'longitude': '-99.9'}</td>\n",
       "    </tr>\n",
       "    <tr>\n",
       "      <th>4</th>\n",
       "      <td>Achiras</td>\n",
       "      <td>370</td>\n",
       "      <td>Valid</td>\n",
       "      <td>L6</td>\n",
       "      <td>780.0</td>\n",
       "      <td>Fell</td>\n",
       "      <td>1902-01-01T00:00:00.000</td>\n",
       "      <td>-33.16667</td>\n",
       "      <td>-64.95000</td>\n",
       "      <td>{'latitude': '-33.16667', 'longitude': '-64.95'}</td>\n",
       "    </tr>\n",
       "  </tbody>\n",
       "</table>\n",
       "</div>"
      ],
      "text/plain": [
       "       name   id nametype     recclass      mass  fall  \\\n",
       "0    Aachen    1    Valid           L5      21.0  Fell   \n",
       "1    Aarhus    2    Valid           H6     720.0  Fell   \n",
       "2      Abee    6    Valid          EH4  107000.0  Fell   \n",
       "3  Acapulco   10    Valid  Acapulcoite    1914.0  Fell   \n",
       "4   Achiras  370    Valid           L6     780.0  Fell   \n",
       "\n",
       "                      year    reclat    reclong  \\\n",
       "0  1880-01-01T00:00:00.000  50.77500    6.08333   \n",
       "1  1951-01-01T00:00:00.000  56.18333   10.23333   \n",
       "2  1952-01-01T00:00:00.000  54.21667 -113.00000   \n",
       "3  1976-01-01T00:00:00.000  16.88333  -99.90000   \n",
       "4  1902-01-01T00:00:00.000 -33.16667  -64.95000   \n",
       "\n",
       "                                         geolocation  \n",
       "0     {'latitude': '50.775', 'longitude': '6.08333'}  \n",
       "1  {'latitude': '56.18333', 'longitude': '10.23333'}  \n",
       "2    {'latitude': '54.21667', 'longitude': '-113.0'}  \n",
       "3     {'latitude': '16.88333', 'longitude': '-99.9'}  \n",
       "4   {'latitude': '-33.16667', 'longitude': '-64.95'}  "
      ]
     },
     "execution_count": 4,
     "metadata": {},
     "output_type": "execute_result"
    }
   ],
   "source": [
    "meteor_landing.head()"
   ]
  },
  {
   "cell_type": "code",
   "execution_count": 5,
   "id": "65329ff1",
   "metadata": {},
   "outputs": [
    {
     "data": {
      "text/plain": [
       "4000.0     15\n",
       "1000.0     14\n",
       "2000.0     13\n",
       "6000.0     13\n",
       "5000.0     12\n",
       "           ..\n",
       "968.0       1\n",
       "288.0       1\n",
       "1915.0      1\n",
       "2910.0      1\n",
       "65500.0     1\n",
       "Name: mass, Length: 639, dtype: int64"
      ]
     },
     "execution_count": 5,
     "metadata": {},
     "output_type": "execute_result"
    }
   ],
   "source": [
    "meteor_landing.mass.value_counts()"
   ]
  },
  {
   "cell_type": "code",
   "execution_count": 6,
   "id": "d2ebcde4",
   "metadata": {},
   "outputs": [
    {
     "name": "stdout",
     "output_type": "stream",
     "text": [
      "<class 'pandas.core.frame.DataFrame'>\n",
      "RangeIndex: 1000 entries, 0 to 999\n",
      "Data columns (total 10 columns):\n",
      " #   Column       Non-Null Count  Dtype  \n",
      "---  ------       --------------  -----  \n",
      " 0   name         1000 non-null   object \n",
      " 1   id           1000 non-null   int64  \n",
      " 2   nametype     1000 non-null   object \n",
      " 3   recclass     1000 non-null   object \n",
      " 4   mass         972 non-null    float64\n",
      " 5   fall         1000 non-null   object \n",
      " 6   year         999 non-null    object \n",
      " 7   reclat       988 non-null    float64\n",
      " 8   reclong      988 non-null    float64\n",
      " 9   geolocation  988 non-null    object \n",
      "dtypes: float64(3), int64(1), object(6)\n",
      "memory usage: 78.2+ KB\n"
     ]
    }
   ],
   "source": [
    "meteor_landing.info()"
   ]
  },
  {
   "cell_type": "code",
   "execution_count": 7,
   "id": "21c77e8e",
   "metadata": {},
   "outputs": [
    {
     "data": {
      "text/html": [
       "<div>\n",
       "<style scoped>\n",
       "    .dataframe tbody tr th:only-of-type {\n",
       "        vertical-align: middle;\n",
       "    }\n",
       "\n",
       "    .dataframe tbody tr th {\n",
       "        vertical-align: top;\n",
       "    }\n",
       "\n",
       "    .dataframe thead th {\n",
       "        text-align: right;\n",
       "    }\n",
       "</style>\n",
       "<table border=\"1\" class=\"dataframe\">\n",
       "  <thead>\n",
       "    <tr style=\"text-align: right;\">\n",
       "      <th></th>\n",
       "      <th>name</th>\n",
       "      <th>id</th>\n",
       "      <th>nametype</th>\n",
       "      <th>recclass</th>\n",
       "      <th>mass</th>\n",
       "      <th>fall</th>\n",
       "      <th>year</th>\n",
       "      <th>reclat</th>\n",
       "      <th>reclong</th>\n",
       "      <th>geolocation</th>\n",
       "    </tr>\n",
       "  </thead>\n",
       "  <tbody>\n",
       "    <tr>\n",
       "      <th>0</th>\n",
       "      <td>Aachen</td>\n",
       "      <td>1</td>\n",
       "      <td>Valid</td>\n",
       "      <td>L5</td>\n",
       "      <td>21.0</td>\n",
       "      <td>Fell</td>\n",
       "      <td>1880-01-01</td>\n",
       "      <td>50.77500</td>\n",
       "      <td>6.08333</td>\n",
       "      <td>{'latitude': '50.775', 'longitude': '6.08333'}</td>\n",
       "    </tr>\n",
       "    <tr>\n",
       "      <th>1</th>\n",
       "      <td>Aarhus</td>\n",
       "      <td>2</td>\n",
       "      <td>Valid</td>\n",
       "      <td>H6</td>\n",
       "      <td>720.0</td>\n",
       "      <td>Fell</td>\n",
       "      <td>1951-01-01</td>\n",
       "      <td>56.18333</td>\n",
       "      <td>10.23333</td>\n",
       "      <td>{'latitude': '56.18333', 'longitude': '10.23333'}</td>\n",
       "    </tr>\n",
       "    <tr>\n",
       "      <th>2</th>\n",
       "      <td>Abee</td>\n",
       "      <td>6</td>\n",
       "      <td>Valid</td>\n",
       "      <td>EH4</td>\n",
       "      <td>107000.0</td>\n",
       "      <td>Fell</td>\n",
       "      <td>1952-01-01</td>\n",
       "      <td>54.21667</td>\n",
       "      <td>-113.00000</td>\n",
       "      <td>{'latitude': '54.21667', 'longitude': '-113.0'}</td>\n",
       "    </tr>\n",
       "    <tr>\n",
       "      <th>3</th>\n",
       "      <td>Acapulco</td>\n",
       "      <td>10</td>\n",
       "      <td>Valid</td>\n",
       "      <td>Acapulcoite</td>\n",
       "      <td>1914.0</td>\n",
       "      <td>Fell</td>\n",
       "      <td>1976-01-01</td>\n",
       "      <td>16.88333</td>\n",
       "      <td>-99.90000</td>\n",
       "      <td>{'latitude': '16.88333', 'longitude': '-99.9'}</td>\n",
       "    </tr>\n",
       "    <tr>\n",
       "      <th>4</th>\n",
       "      <td>Achiras</td>\n",
       "      <td>370</td>\n",
       "      <td>Valid</td>\n",
       "      <td>L6</td>\n",
       "      <td>780.0</td>\n",
       "      <td>Fell</td>\n",
       "      <td>1902-01-01</td>\n",
       "      <td>-33.16667</td>\n",
       "      <td>-64.95000</td>\n",
       "      <td>{'latitude': '-33.16667', 'longitude': '-64.95'}</td>\n",
       "    </tr>\n",
       "    <tr>\n",
       "      <th>...</th>\n",
       "      <td>...</td>\n",
       "      <td>...</td>\n",
       "      <td>...</td>\n",
       "      <td>...</td>\n",
       "      <td>...</td>\n",
       "      <td>...</td>\n",
       "      <td>...</td>\n",
       "      <td>...</td>\n",
       "      <td>...</td>\n",
       "      <td>...</td>\n",
       "    </tr>\n",
       "    <tr>\n",
       "      <th>995</th>\n",
       "      <td>Tirupati</td>\n",
       "      <td>24009</td>\n",
       "      <td>Valid</td>\n",
       "      <td>H6</td>\n",
       "      <td>230.0</td>\n",
       "      <td>Fell</td>\n",
       "      <td>1934-01-01</td>\n",
       "      <td>13.63333</td>\n",
       "      <td>79.41667</td>\n",
       "      <td>{'latitude': '13.63333', 'longitude': '79.41667'}</td>\n",
       "    </tr>\n",
       "    <tr>\n",
       "      <th>996</th>\n",
       "      <td>Tissint</td>\n",
       "      <td>54823</td>\n",
       "      <td>Valid</td>\n",
       "      <td>Martian (shergottite)</td>\n",
       "      <td>7000.0</td>\n",
       "      <td>Fell</td>\n",
       "      <td>2011-01-01</td>\n",
       "      <td>29.48195</td>\n",
       "      <td>-7.61123</td>\n",
       "      <td>{'latitude': '29.48195', 'longitude': '-7.61123'}</td>\n",
       "    </tr>\n",
       "    <tr>\n",
       "      <th>997</th>\n",
       "      <td>Tjabe</td>\n",
       "      <td>24011</td>\n",
       "      <td>Valid</td>\n",
       "      <td>H6</td>\n",
       "      <td>20000.0</td>\n",
       "      <td>Fell</td>\n",
       "      <td>1869-01-01</td>\n",
       "      <td>-7.08333</td>\n",
       "      <td>111.53333</td>\n",
       "      <td>{'latitude': '-7.08333', 'longitude': '111.533...</td>\n",
       "    </tr>\n",
       "    <tr>\n",
       "      <th>998</th>\n",
       "      <td>Tjerebon</td>\n",
       "      <td>24012</td>\n",
       "      <td>Valid</td>\n",
       "      <td>L5</td>\n",
       "      <td>16500.0</td>\n",
       "      <td>Fell</td>\n",
       "      <td>1922-01-01</td>\n",
       "      <td>-6.66667</td>\n",
       "      <td>106.58333</td>\n",
       "      <td>{'latitude': '-6.66667', 'longitude': '106.583...</td>\n",
       "    </tr>\n",
       "    <tr>\n",
       "      <th>999</th>\n",
       "      <td>Tomakovka</td>\n",
       "      <td>24019</td>\n",
       "      <td>Valid</td>\n",
       "      <td>LL6</td>\n",
       "      <td>600.0</td>\n",
       "      <td>Fell</td>\n",
       "      <td>1905-01-01</td>\n",
       "      <td>47.85000</td>\n",
       "      <td>34.76667</td>\n",
       "      <td>{'latitude': '47.85', 'longitude': '34.76667'}</td>\n",
       "    </tr>\n",
       "  </tbody>\n",
       "</table>\n",
       "<p>1000 rows × 10 columns</p>\n",
       "</div>"
      ],
      "text/plain": [
       "          name     id nametype               recclass      mass  fall  \\\n",
       "0       Aachen      1    Valid                     L5      21.0  Fell   \n",
       "1       Aarhus      2    Valid                     H6     720.0  Fell   \n",
       "2         Abee      6    Valid                    EH4  107000.0  Fell   \n",
       "3     Acapulco     10    Valid            Acapulcoite    1914.0  Fell   \n",
       "4      Achiras    370    Valid                     L6     780.0  Fell   \n",
       "..         ...    ...      ...                    ...       ...   ...   \n",
       "995   Tirupati  24009    Valid                     H6     230.0  Fell   \n",
       "996    Tissint  54823    Valid  Martian (shergottite)    7000.0  Fell   \n",
       "997      Tjabe  24011    Valid                     H6   20000.0  Fell   \n",
       "998   Tjerebon  24012    Valid                     L5   16500.0  Fell   \n",
       "999  Tomakovka  24019    Valid                    LL6     600.0  Fell   \n",
       "\n",
       "          year    reclat    reclong  \\\n",
       "0   1880-01-01  50.77500    6.08333   \n",
       "1   1951-01-01  56.18333   10.23333   \n",
       "2   1952-01-01  54.21667 -113.00000   \n",
       "3   1976-01-01  16.88333  -99.90000   \n",
       "4   1902-01-01 -33.16667  -64.95000   \n",
       "..         ...       ...        ...   \n",
       "995 1934-01-01  13.63333   79.41667   \n",
       "996 2011-01-01  29.48195   -7.61123   \n",
       "997 1869-01-01  -7.08333  111.53333   \n",
       "998 1922-01-01  -6.66667  106.58333   \n",
       "999 1905-01-01  47.85000   34.76667   \n",
       "\n",
       "                                           geolocation  \n",
       "0       {'latitude': '50.775', 'longitude': '6.08333'}  \n",
       "1    {'latitude': '56.18333', 'longitude': '10.23333'}  \n",
       "2      {'latitude': '54.21667', 'longitude': '-113.0'}  \n",
       "3       {'latitude': '16.88333', 'longitude': '-99.9'}  \n",
       "4     {'latitude': '-33.16667', 'longitude': '-64.95'}  \n",
       "..                                                 ...  \n",
       "995  {'latitude': '13.63333', 'longitude': '79.41667'}  \n",
       "996  {'latitude': '29.48195', 'longitude': '-7.61123'}  \n",
       "997  {'latitude': '-7.08333', 'longitude': '111.533...  \n",
       "998  {'latitude': '-6.66667', 'longitude': '106.583...  \n",
       "999     {'latitude': '47.85', 'longitude': '34.76667'}  \n",
       "\n",
       "[1000 rows x 10 columns]"
      ]
     },
     "execution_count": 7,
     "metadata": {},
     "output_type": "execute_result"
    }
   ],
   "source": [
    "meteor_landing_new = meteor_landing.drop(meteor_landing[meteor_landing.mass == 'nan'].index) #drop rows where mass is 'nan'\n",
    "meteor_landing_new = meteor_landing_new.drop(meteor_landing_new[meteor_landing_new.year == '<NA>'].index) #drop rows where year is <NA>\n",
    "meteor_landing_new[\"year\"] = pd.to_datetime(meteor_landing_new['year'], errors = 'coerce') \n",
    "meteor_landing_new"
   ]
  },
  {
   "cell_type": "code",
   "execution_count": 8,
   "id": "235c421c",
   "metadata": {},
   "outputs": [
    {
     "data": {
      "text/plain": [
       "dtype('<M8[ns]')"
      ]
     },
     "execution_count": 8,
     "metadata": {},
     "output_type": "execute_result"
    }
   ],
   "source": [
    "meteor_landing_new[\"year\"].dtype"
   ]
  },
  {
   "cell_type": "code",
   "execution_count": 9,
   "id": "c9ca6800",
   "metadata": {},
   "outputs": [
    {
     "data": {
      "text/plain": [
       "Timestamp('1688-01-01 00:00:00')"
      ]
     },
     "execution_count": 9,
     "metadata": {},
     "output_type": "execute_result"
    }
   ],
   "source": [
    "#Checking for the minimum year value present in the dataset\n",
    "meteor_landing_new['year'].min()"
   ]
  },
  {
   "cell_type": "code",
   "execution_count": 10,
   "id": "7bceb0db",
   "metadata": {},
   "outputs": [
    {
     "data": {
      "text/plain": [
       "Timestamp('2013-01-01 00:00:00')"
      ]
     },
     "execution_count": 10,
     "metadata": {},
     "output_type": "execute_result"
    }
   ],
   "source": [
    "#Checking for the maximum year value present in the dataset\n",
    "meteor_landing_new['year'].max()"
   ]
  },
  {
   "cell_type": "markdown",
   "id": "b3bef016",
   "metadata": {},
   "source": [
    "### This tells us that our dataset is between year 1688 and 2013"
   ]
  },
  {
   "cell_type": "code",
   "execution_count": 11,
   "id": "471de76e",
   "metadata": {},
   "outputs": [
    {
     "data": {
      "text/plain": [
       "Index(['name', 'id', 'nametype', 'recclass', 'mass', 'fall', 'year', 'reclat',\n",
       "       'reclong', 'geolocation'],\n",
       "      dtype='object')"
      ]
     },
     "execution_count": 11,
     "metadata": {},
     "output_type": "execute_result"
    }
   ],
   "source": [
    "meteor_landing_new.columns"
   ]
  },
  {
   "cell_type": "code",
   "execution_count": 12,
   "id": "0e90802a",
   "metadata": {},
   "outputs": [
    {
     "data": {
      "text/plain": [
       "0   1880-01-01\n",
       "1   1951-01-01\n",
       "2   1952-01-01\n",
       "3   1976-01-01\n",
       "4   1902-01-01\n",
       "Name: year, dtype: datetime64[ns]"
      ]
     },
     "execution_count": 12,
     "metadata": {},
     "output_type": "execute_result"
    }
   ],
   "source": [
    "#Let's list the first 5 years from our dataset\n",
    "meteor_landing_new.iloc[0:5][\"year\"]"
   ]
  },
  {
   "cell_type": "code",
   "execution_count": 13,
   "id": "f084a406",
   "metadata": {},
   "outputs": [
    {
     "data": {
      "text/plain": [
       "230"
      ]
     },
     "execution_count": 13,
     "metadata": {},
     "output_type": "execute_result"
    }
   ],
   "source": [
    "#Count of total number of unique years in the dataset\n",
    "meteor_landing_new[\"year\"].nunique()"
   ]
  },
  {
   "cell_type": "code",
   "execution_count": 14,
   "id": "1ee1255e",
   "metadata": {},
   "outputs": [
    {
     "data": {
      "text/plain": [
       "2"
      ]
     },
     "execution_count": 14,
     "metadata": {},
     "output_type": "execute_result"
    }
   ],
   "source": [
    "#Count of total number of unique fall category in the dataset\n",
    "meteor_landing_new[\"fall\"].nunique()"
   ]
  },
  {
   "cell_type": "code",
   "execution_count": 15,
   "id": "7d700fec",
   "metadata": {},
   "outputs": [
    {
     "data": {
      "text/plain": [
       "array(['Fell', 'Found'], dtype=object)"
      ]
     },
     "execution_count": 15,
     "metadata": {},
     "output_type": "execute_result"
    }
   ],
   "source": [
    "#Displaying unique fall category in the dataset\n",
    "meteor_landing_new[\"fall\"].unique()"
   ]
  },
  {
   "cell_type": "code",
   "execution_count": 16,
   "id": "545e80a7",
   "metadata": {},
   "outputs": [
    {
     "data": {
      "text/plain": [
       "118"
      ]
     },
     "execution_count": 16,
     "metadata": {},
     "output_type": "execute_result"
    }
   ],
   "source": [
    "#List the total number of unique recclass present\n",
    "meteor_landing_new[\"recclass\"].nunique()"
   ]
  },
  {
   "cell_type": "code",
   "execution_count": 17,
   "id": "9def78da",
   "metadata": {},
   "outputs": [
    {
     "data": {
      "text/plain": [
       "array(['L5', 'H6', 'EH4', 'Acapulcoite', 'L6', 'LL3-6', 'H5', 'L',\n",
       "       'Diogenite-pm', 'Unknown', 'H4', 'H', 'Iron, IVA', 'CR2-an', 'LL5',\n",
       "       'CI1', 'L/LL4', 'Eucrite-mmict', 'CV3', 'Ureilite-an',\n",
       "       'Stone-uncl', 'L3', 'Angrite', 'LL6', 'L4', 'Aubrite',\n",
       "       'Iron, IIAB', 'Iron, IAB-sLL', 'Iron, ungrouped', 'CM2', 'OC',\n",
       "       'Mesosiderite-A1', 'LL4', 'C2-ung', 'LL3.8', 'Howardite',\n",
       "       'Eucrite-pmict', 'Diogenite', 'LL3.15', 'LL3.9', 'Iron, IAB-MG',\n",
       "       'H/L3.9', 'Iron?', 'Eucrite', 'H4-an', 'L/LL6', 'Iron, IIIAB',\n",
       "       'H/L4', 'H4-5', 'L3.7', 'LL3.4', 'Martian (chassignite)', 'EL6',\n",
       "       'H3.8', 'H3-5', 'H5-6', 'Mesosiderite', 'H5-7', 'L3-6', 'H4-6',\n",
       "       'Ureilite', 'Iron, IID', 'Mesosiderite-A3/4', 'CO3.3', 'H3',\n",
       "       'EH3/4-an', 'Iron, IIE', 'L/LL5', 'H3.7', 'CBa', 'H4/5', 'H3/4',\n",
       "       'H?', 'H3-6', 'L3.4', 'Iron, IAB-sHL', 'L3.7-6', 'EH7-an', 'Iron',\n",
       "       'CR2', 'CO3.2', 'K3', 'L5/6', 'CK4', 'Iron, IIE-an', 'L3.6',\n",
       "       'LL3.2', 'Pallasite', 'CO3.5', 'Lodranite', 'Mesosiderite-A3',\n",
       "       'L3-4', 'H5/6', 'Pallasite, PMG', 'Eucrite-cm', 'L5-6', 'CO3.6',\n",
       "       'Martian (nakhlite)', 'LL3.6', 'C3-ung', 'H3-4', 'CO3.4', 'EH3',\n",
       "       'Iron, IAB-ung', 'Winonaite', 'LL', 'Eucrite-br', 'Iron, IIF',\n",
       "       'R3.8-6', 'L4-6', 'EH5', 'LL3.00', 'H3.4', 'Martian (shergottite)',\n",
       "       'Achondrite-ung', 'LL3.3', 'C', 'H/L3.6'], dtype=object)"
      ]
     },
     "execution_count": 17,
     "metadata": {},
     "output_type": "execute_result"
    }
   ],
   "source": [
    "#List all the unqiue recclass present in the dataset\n",
    "meteor_landing_new[\"recclass\"].unique()"
   ]
  },
  {
   "cell_type": "code",
   "execution_count": 18,
   "id": "b1454eac",
   "metadata": {},
   "outputs": [],
   "source": [
    "#Lets drop all the rows where mass and year is zero\n",
    "meteor_landing_new.drop(meteor_landing_new[meteor_landing_new['mass']==0].index, inplace=True)\n",
    "meteor_landing_new.drop(meteor_landing_new[meteor_landing_new['year']==0].index, inplace=True)"
   ]
  },
  {
   "cell_type": "code",
   "execution_count": 19,
   "id": "dd8db4a9",
   "metadata": {},
   "outputs": [],
   "source": [
    "#This will clean the remaining Null, NA, 0 values for all the fields in the dataset\n",
    "meteor_landing_new = meteor_landing_new.dropna()"
   ]
  },
  {
   "cell_type": "code",
   "execution_count": 20,
   "id": "3e2dff9e",
   "metadata": {},
   "outputs": [
    {
     "name": "stdout",
     "output_type": "stream",
     "text": [
      "<class 'pandas.core.frame.DataFrame'>\n",
      "Int64Index: 948 entries, 0 to 999\n",
      "Data columns (total 10 columns):\n",
      " #   Column       Non-Null Count  Dtype         \n",
      "---  ------       --------------  -----         \n",
      " 0   name         948 non-null    object        \n",
      " 1   id           948 non-null    int64         \n",
      " 2   nametype     948 non-null    object        \n",
      " 3   recclass     948 non-null    object        \n",
      " 4   mass         948 non-null    float64       \n",
      " 5   fall         948 non-null    object        \n",
      " 6   year         948 non-null    datetime64[ns]\n",
      " 7   reclat       948 non-null    float64       \n",
      " 8   reclong      948 non-null    float64       \n",
      " 9   geolocation  948 non-null    object        \n",
      "dtypes: datetime64[ns](1), float64(3), int64(1), object(5)\n",
      "memory usage: 81.5+ KB\n"
     ]
    }
   ],
   "source": [
    "#Check the datatype of all the fields in the dataset\n",
    "meteor_landing_new.info()"
   ]
  },
  {
   "cell_type": "code",
   "execution_count": 21,
   "id": "b625582d",
   "metadata": {},
   "outputs": [
    {
     "data": {
      "text/html": [
       "<div>\n",
       "<style scoped>\n",
       "    .dataframe tbody tr th:only-of-type {\n",
       "        vertical-align: middle;\n",
       "    }\n",
       "\n",
       "    .dataframe tbody tr th {\n",
       "        vertical-align: top;\n",
       "    }\n",
       "\n",
       "    .dataframe thead th {\n",
       "        text-align: right;\n",
       "    }\n",
       "</style>\n",
       "<table border=\"1\" class=\"dataframe\">\n",
       "  <thead>\n",
       "    <tr style=\"text-align: right;\">\n",
       "      <th></th>\n",
       "      <th>name</th>\n",
       "      <th>id</th>\n",
       "      <th>nametype</th>\n",
       "      <th>recclass</th>\n",
       "      <th>mass</th>\n",
       "      <th>fall</th>\n",
       "      <th>year</th>\n",
       "      <th>reclat</th>\n",
       "      <th>reclong</th>\n",
       "      <th>geolocation</th>\n",
       "    </tr>\n",
       "  </thead>\n",
       "  <tbody>\n",
       "    <tr>\n",
       "      <th>0</th>\n",
       "      <td>Aachen</td>\n",
       "      <td>1</td>\n",
       "      <td>Valid</td>\n",
       "      <td>L5</td>\n",
       "      <td>21.0</td>\n",
       "      <td>Fell</td>\n",
       "      <td>1880-01-01</td>\n",
       "      <td>50.77500</td>\n",
       "      <td>6.08333</td>\n",
       "      <td>{'latitude': '50.775', 'longitude': '6.08333'}</td>\n",
       "    </tr>\n",
       "    <tr>\n",
       "      <th>1</th>\n",
       "      <td>Aarhus</td>\n",
       "      <td>2</td>\n",
       "      <td>Valid</td>\n",
       "      <td>H6</td>\n",
       "      <td>720.0</td>\n",
       "      <td>Fell</td>\n",
       "      <td>1951-01-01</td>\n",
       "      <td>56.18333</td>\n",
       "      <td>10.23333</td>\n",
       "      <td>{'latitude': '56.18333', 'longitude': '10.23333'}</td>\n",
       "    </tr>\n",
       "    <tr>\n",
       "      <th>2</th>\n",
       "      <td>Abee</td>\n",
       "      <td>6</td>\n",
       "      <td>Valid</td>\n",
       "      <td>EH4</td>\n",
       "      <td>107000.0</td>\n",
       "      <td>Fell</td>\n",
       "      <td>1952-01-01</td>\n",
       "      <td>54.21667</td>\n",
       "      <td>-113.00000</td>\n",
       "      <td>{'latitude': '54.21667', 'longitude': '-113.0'}</td>\n",
       "    </tr>\n",
       "    <tr>\n",
       "      <th>3</th>\n",
       "      <td>Acapulco</td>\n",
       "      <td>10</td>\n",
       "      <td>Valid</td>\n",
       "      <td>Acapulcoite</td>\n",
       "      <td>1914.0</td>\n",
       "      <td>Fell</td>\n",
       "      <td>1976-01-01</td>\n",
       "      <td>16.88333</td>\n",
       "      <td>-99.90000</td>\n",
       "      <td>{'latitude': '16.88333', 'longitude': '-99.9'}</td>\n",
       "    </tr>\n",
       "    <tr>\n",
       "      <th>4</th>\n",
       "      <td>Achiras</td>\n",
       "      <td>370</td>\n",
       "      <td>Valid</td>\n",
       "      <td>L6</td>\n",
       "      <td>780.0</td>\n",
       "      <td>Fell</td>\n",
       "      <td>1902-01-01</td>\n",
       "      <td>-33.16667</td>\n",
       "      <td>-64.95000</td>\n",
       "      <td>{'latitude': '-33.16667', 'longitude': '-64.95'}</td>\n",
       "    </tr>\n",
       "    <tr>\n",
       "      <th>...</th>\n",
       "      <td>...</td>\n",
       "      <td>...</td>\n",
       "      <td>...</td>\n",
       "      <td>...</td>\n",
       "      <td>...</td>\n",
       "      <td>...</td>\n",
       "      <td>...</td>\n",
       "      <td>...</td>\n",
       "      <td>...</td>\n",
       "      <td>...</td>\n",
       "    </tr>\n",
       "    <tr>\n",
       "      <th>995</th>\n",
       "      <td>Tirupati</td>\n",
       "      <td>24009</td>\n",
       "      <td>Valid</td>\n",
       "      <td>H6</td>\n",
       "      <td>230.0</td>\n",
       "      <td>Fell</td>\n",
       "      <td>1934-01-01</td>\n",
       "      <td>13.63333</td>\n",
       "      <td>79.41667</td>\n",
       "      <td>{'latitude': '13.63333', 'longitude': '79.41667'}</td>\n",
       "    </tr>\n",
       "    <tr>\n",
       "      <th>996</th>\n",
       "      <td>Tissint</td>\n",
       "      <td>54823</td>\n",
       "      <td>Valid</td>\n",
       "      <td>Martian (shergottite)</td>\n",
       "      <td>7000.0</td>\n",
       "      <td>Fell</td>\n",
       "      <td>2011-01-01</td>\n",
       "      <td>29.48195</td>\n",
       "      <td>-7.61123</td>\n",
       "      <td>{'latitude': '29.48195', 'longitude': '-7.61123'}</td>\n",
       "    </tr>\n",
       "    <tr>\n",
       "      <th>997</th>\n",
       "      <td>Tjabe</td>\n",
       "      <td>24011</td>\n",
       "      <td>Valid</td>\n",
       "      <td>H6</td>\n",
       "      <td>20000.0</td>\n",
       "      <td>Fell</td>\n",
       "      <td>1869-01-01</td>\n",
       "      <td>-7.08333</td>\n",
       "      <td>111.53333</td>\n",
       "      <td>{'latitude': '-7.08333', 'longitude': '111.533...</td>\n",
       "    </tr>\n",
       "    <tr>\n",
       "      <th>998</th>\n",
       "      <td>Tjerebon</td>\n",
       "      <td>24012</td>\n",
       "      <td>Valid</td>\n",
       "      <td>L5</td>\n",
       "      <td>16500.0</td>\n",
       "      <td>Fell</td>\n",
       "      <td>1922-01-01</td>\n",
       "      <td>-6.66667</td>\n",
       "      <td>106.58333</td>\n",
       "      <td>{'latitude': '-6.66667', 'longitude': '106.583...</td>\n",
       "    </tr>\n",
       "    <tr>\n",
       "      <th>999</th>\n",
       "      <td>Tomakovka</td>\n",
       "      <td>24019</td>\n",
       "      <td>Valid</td>\n",
       "      <td>LL6</td>\n",
       "      <td>600.0</td>\n",
       "      <td>Fell</td>\n",
       "      <td>1905-01-01</td>\n",
       "      <td>47.85000</td>\n",
       "      <td>34.76667</td>\n",
       "      <td>{'latitude': '47.85', 'longitude': '34.76667'}</td>\n",
       "    </tr>\n",
       "  </tbody>\n",
       "</table>\n",
       "<p>948 rows × 10 columns</p>\n",
       "</div>"
      ],
      "text/plain": [
       "          name     id nametype               recclass      mass  fall  \\\n",
       "0       Aachen      1    Valid                     L5      21.0  Fell   \n",
       "1       Aarhus      2    Valid                     H6     720.0  Fell   \n",
       "2         Abee      6    Valid                    EH4  107000.0  Fell   \n",
       "3     Acapulco     10    Valid            Acapulcoite    1914.0  Fell   \n",
       "4      Achiras    370    Valid                     L6     780.0  Fell   \n",
       "..         ...    ...      ...                    ...       ...   ...   \n",
       "995   Tirupati  24009    Valid                     H6     230.0  Fell   \n",
       "996    Tissint  54823    Valid  Martian (shergottite)    7000.0  Fell   \n",
       "997      Tjabe  24011    Valid                     H6   20000.0  Fell   \n",
       "998   Tjerebon  24012    Valid                     L5   16500.0  Fell   \n",
       "999  Tomakovka  24019    Valid                    LL6     600.0  Fell   \n",
       "\n",
       "          year    reclat    reclong  \\\n",
       "0   1880-01-01  50.77500    6.08333   \n",
       "1   1951-01-01  56.18333   10.23333   \n",
       "2   1952-01-01  54.21667 -113.00000   \n",
       "3   1976-01-01  16.88333  -99.90000   \n",
       "4   1902-01-01 -33.16667  -64.95000   \n",
       "..         ...       ...        ...   \n",
       "995 1934-01-01  13.63333   79.41667   \n",
       "996 2011-01-01  29.48195   -7.61123   \n",
       "997 1869-01-01  -7.08333  111.53333   \n",
       "998 1922-01-01  -6.66667  106.58333   \n",
       "999 1905-01-01  47.85000   34.76667   \n",
       "\n",
       "                                           geolocation  \n",
       "0       {'latitude': '50.775', 'longitude': '6.08333'}  \n",
       "1    {'latitude': '56.18333', 'longitude': '10.23333'}  \n",
       "2      {'latitude': '54.21667', 'longitude': '-113.0'}  \n",
       "3       {'latitude': '16.88333', 'longitude': '-99.9'}  \n",
       "4     {'latitude': '-33.16667', 'longitude': '-64.95'}  \n",
       "..                                                 ...  \n",
       "995  {'latitude': '13.63333', 'longitude': '79.41667'}  \n",
       "996  {'latitude': '29.48195', 'longitude': '-7.61123'}  \n",
       "997  {'latitude': '-7.08333', 'longitude': '111.533...  \n",
       "998  {'latitude': '-6.66667', 'longitude': '106.583...  \n",
       "999     {'latitude': '47.85', 'longitude': '34.76667'}  \n",
       "\n",
       "[948 rows x 10 columns]"
      ]
     },
     "execution_count": 21,
     "metadata": {},
     "output_type": "execute_result"
    }
   ],
   "source": [
    "meteor_landing_new"
   ]
  },
  {
   "cell_type": "code",
   "execution_count": 22,
   "id": "d76bed0f",
   "metadata": {},
   "outputs": [
    {
     "data": {
      "application/vnd.jupyter.widget-view+json": {
       "model_id": "58666071b5664c39b8e48d3e449a734c",
       "version_major": 2,
       "version_minor": 0
      },
      "text/plain": [
       "Figure(axes=[Axis(label='Longitude', scale=LinearScale()), Axis(label='Latitude', orientation='vertical', scal…"
      ]
     },
     "metadata": {},
     "output_type": "display_data"
    }
   ],
   "source": [
    "#Let's plot a scatter plot for all the entries of latitude and longitude from our dataset using bqplot\n",
    "# 1. Now that we have our data let's try bqplot with scatter plot\n",
    "\n",
    "#Data in this case is our dataset above\n",
    "\n",
    "# 2. Building the scales\n",
    "\n",
    "x_sc = bqplot.LinearScale()\n",
    "y_sc = bqplot.LinearScale()\n",
    "\n",
    "# 3. Setting up the x-axis and y-axis\n",
    "# Take Reclong as Longitude from the dataset for the x-axis of the scatterplot\n",
    "# Take Reclat as Latitude from the dataset for the y-axis of the scatterplot\n",
    "\n",
    "x_ax = bqplot.Axis(scale=x_sc,label='Longitude')\n",
    "y_ax = bqplot.Axis(scale=y_sc, orientation='vertical', label='Latitude')\n",
    "\n",
    "# 4. Creating the Marks based on the reclong and reclat of the dataset\n",
    "scatters = bqplot.Scatter(x=meteor_landing_new['reclong'], y=meteor_landing_new['reclat'], \n",
    "                         scales={'x':x_sc, 'y':y_sc})\n",
    "\n",
    "# Combining everything into a figure to display the scatterplot\n",
    "fig = bqplot.Figure(marks=[scatters], axes=[x_ax,y_ax])\n",
    "fig"
   ]
  },
  {
   "cell_type": "code",
   "execution_count": 23,
   "id": "7a0e894a",
   "metadata": {},
   "outputs": [
    {
     "data": {
      "application/vnd.jupyter.widget-view+json": {
       "model_id": "80cdca3e095a4fa09a2bcfa33585ee48",
       "version_major": 2,
       "version_minor": 0
      },
      "text/plain": [
       "Figure(axes=[Axis(label='Longitude', scale=LinearScale()), Axis(label='Latitude', orientation='vertical', scal…"
      ]
     },
     "metadata": {},
     "output_type": "display_data"
    }
   ],
   "source": [
    "#Since above scatter plot doesn't differntiate between rows plotted,\n",
    "#Let's highlight the scatters based on mass of meteorites fallen on earth\n",
    "#Everything else remains same, we just need to add color_axis to our scatter plot based on mass of meteorites\n",
    "\n",
    "# 1. Now that we have our data let's try bqplot with scatter plot\n",
    "\n",
    "#Data in this case is our dataset above\n",
    "\n",
    "# 2. Building the scales\n",
    "x_sc = bqplot.LinearScale()\n",
    "y_sc = bqplot.LinearScale()\n",
    "\n",
    "#Adding color_scale to the bqplot\n",
    "col_sc = bqplot.ColorScale()\n",
    "\n",
    "# 3. Setting up the x-axis and y-axis\n",
    "\n",
    "x_ax = bqplot.Axis(scale=x_sc,label='Longitude')\n",
    "y_ax = bqplot.Axis(scale=y_sc, orientation='vertical', label='Latitude')\n",
    "\n",
    "#Adding the color_axis to the bqplot based on Mass of meteorites fallen and positioned vertically and placed on right side\n",
    "col_ax = bqplot.ColorAxis(scale=col_sc, label='Mass of Meteorites', orientation='horizontal')\n",
    "\n",
    "# 4. Creating the Marks based on the reclong and reclat of the dataset and adding the color axis and scales to it.\n",
    "scatters = bqplot.Scatter(x=meteor_landing_new['reclong'], y=meteor_landing_new['reclat'], color=meteor_landing_new['mass'],\n",
    "                         scales={'x':x_sc, 'y':y_sc, 'color':col_sc})\n",
    "\n",
    "# Combining everything into a figure to display the scatterplot\n",
    "fig = bqplot.Figure(marks=[scatters], axes=[x_ax,y_ax,col_ax])\n",
    "fig"
   ]
  },
  {
   "cell_type": "code",
   "execution_count": 24,
   "id": "5394e861",
   "metadata": {},
   "outputs": [
    {
     "data": {
      "text/plain": [
       "23000000.0"
      ]
     },
     "execution_count": 24,
     "metadata": {},
     "output_type": "execute_result"
    }
   ],
   "source": [
    "#Lets verify if the highest mass showing up on scatter plot should have close to 2.2 * 10^7 => 22000000 mass value\n",
    "#It's showing up correctly on the scatter plot as verified by using max() for mass attribute in the dataset\n",
    "meteor_landing_new['mass'].max()"
   ]
  },
  {
   "cell_type": "code",
   "execution_count": 25,
   "id": "dc407353",
   "metadata": {},
   "outputs": [
    {
     "data": {
      "application/vnd.jupyter.widget-view+json": {
       "model_id": "e83fb4675c0f40acbd13f17eca93e096",
       "version_major": 2,
       "version_minor": 0
      },
      "text/plain": [
       "Figure(axes=[Axis(label='Longitude', scale=LinearScale()), Axis(label='Latitude', orientation='vertical', scal…"
      ]
     },
     "metadata": {},
     "output_type": "display_data"
    }
   ],
   "source": [
    "#To see more variety of colors since min and max value of mass has huge difference\n",
    "#We can use np.log10 and see the variance in mass of meteorites by different colors\n",
    "\n",
    "#1. #Data in this case is our dataset m2_new above\n",
    "\n",
    "# 2. Building the scales\n",
    "x_sc = bqplot.LinearScale()\n",
    "y_sc = bqplot.LinearScale()\n",
    "col_sc = bqplot.ColorScale()\n",
    "\n",
    "# 3. Setting up the x-axis, y-axis and color-axis\n",
    "x_ax = bqplot.Axis(scale=x_sc,label='Longitude')\n",
    "y_ax = bqplot.Axis(scale=y_sc, orientation='vertical', label='Latitude')\n",
    "col_ax = bqplot.ColorAxis(scale=col_sc, label='log(mass)', orientation='vertical', side='right')\n",
    "\n",
    "# 4. Creating the Marks based on the reclong and reclat of the dataset and using np.log10\n",
    "scatters = bqplot.Scatter(x=meteor_landing_new['reclong'], y=meteor_landing_new['reclat'], \\\n",
    "                          color=np.log10(meteor_landing_new['mass']),\n",
    "                         scales={'x':x_sc, 'y':y_sc, 'color':col_sc})\n",
    "\n",
    "# Combining everything into a figure to display the scatterplot\n",
    "fig = bqplot.Figure(marks=[scatters], axes=[x_ax,y_ax,col_ax])\n",
    "fig"
   ]
  },
  {
   "cell_type": "markdown",
   "id": "b5bc7d8a",
   "metadata": {},
   "source": [
    "### Now in the above scatter plot by using np.log10 we can now see how mass value varies for each meteors which is better from earlier where everything was almost maroon when log10 wasn't used."
   ]
  },
  {
   "cell_type": "markdown",
   "id": "3cd76cdd",
   "metadata": {},
   "source": [
    "### Still in above visualization we can't see everything easily. As there might be a lot of overlapping happening between meteor data and for Python also it would take quite alot of time when plotting scatters on top of each other. Hence, the solution to this would be to use a histogram instead of scatter plot which we will do now."
   ]
  },
  {
   "cell_type": "code",
   "execution_count": 26,
   "id": "0ff1f8c2",
   "metadata": {},
   "outputs": [],
   "source": [
    "#nlong is bin for longitude\n",
    "#nlat is bin for latitude\n",
    "#longmin is minimum value of longitude for our dataset which will be used for filtering data\n",
    "#longmax is maximum value of longitude for our dataset which will be used for filtering data\n",
    "#latmin is minimum value of latitude for our dataset which will be used for filtering data\n",
    "#latmax is maximum value of latitude for our dataset which will be used for filtering data\n",
    "#We will be taking log=True to show different colors in our histogram\n",
    "\n",
    "\n",
    "def generate_histogram_from_reclat_reclong(meteor_landing_new, nreclong=20, nreclat=20, reclongmin=-150, reclongmax=150,\n",
    "                                     reclatmin=-40, reclatmax=70,\n",
    "                                     takeLog=True):\n",
    "    reclong_bins = np.linspace(reclongmin, reclongmax, nreclong+1)\n",
    "    reclat_bins = np.linspace(reclatmin, reclatmax, nreclat+1)\n",
    "    hist2d, reclong_edges, reclat_edges = np.histogram2d(meteor_landing_new['reclong'], \n",
    "                                                   meteor_landing_new['reclat'], \n",
    "                                                   weights=meteor_landing_new['mass'],\n",
    "                                                  bins = [reclong_bins,reclat_bins])\n",
    "    hist2d = hist2d.T\n",
    "    if takeLog:\n",
    "        hist2d[hist2d <= 0] = np.nan # set zeros to NaNs\n",
    "        # then take log\n",
    "        hist2d = np.log10(hist2d)\n",
    "    reclong_centers = (reclong_edges[:-1] + reclong_edges[1:]) / 2\n",
    "    reclat_centers = (reclat_edges[:-1] + reclat_edges[1:]) / 2\n",
    "    return hist2d, reclong_centers, reclat_centers, reclong_edges, reclat_edges"
   ]
  },
  {
   "cell_type": "code",
   "execution_count": 27,
   "id": "45e60d36",
   "metadata": {},
   "outputs": [],
   "source": [
    "hist2d, reclong_centers, reclat_centers, reclong_edges, reclat_edges = generate_histogram_from_reclat_reclong(meteor_landing_new)"
   ]
  },
  {
   "cell_type": "code",
   "execution_count": 28,
   "id": "19e35bf2",
   "metadata": {},
   "outputs": [
    {
     "data": {
      "text/plain": [
       "(20, 20)"
      ]
     },
     "execution_count": 28,
     "metadata": {},
     "output_type": "execute_result"
    }
   ],
   "source": [
    "#Shape of histogram give 20X20 grid head map\n",
    "hist2d.shape"
   ]
  },
  {
   "cell_type": "code",
   "execution_count": 29,
   "id": "fb645f18",
   "metadata": {},
   "outputs": [
    {
     "data": {
      "text/plain": [
       "array([-142.5, -127.5, -112.5,  -97.5,  -82.5,  -67.5,  -52.5,  -37.5,\n",
       "        -22.5,   -7.5,    7.5,   22.5,   37.5,   52.5,   67.5,   82.5,\n",
       "         97.5,  112.5,  127.5,  142.5])"
      ]
     },
     "execution_count": 29,
     "metadata": {},
     "output_type": "execute_result"
    }
   ],
   "source": [
    "#Center of bins in the histograms\n",
    "reclong_centers"
   ]
  },
  {
   "cell_type": "code",
   "execution_count": 30,
   "id": "6bbdfd14",
   "metadata": {},
   "outputs": [
    {
     "data": {
      "text/plain": [
       "array([-150., -135., -120., -105.,  -90.,  -75.,  -60.,  -45.,  -30.,\n",
       "        -15.,    0.,   15.,   30.,   45.,   60.,   75.,   90.,  105.,\n",
       "        120.,  135.,  150.])"
      ]
     },
     "execution_count": 30,
     "metadata": {},
     "output_type": "execute_result"
    }
   ],
   "source": [
    "# Edges of our histogram, Data is going to be delineated across these edges in our histogram\n",
    "reclong_edges"
   ]
  },
  {
   "cell_type": "code",
   "execution_count": 31,
   "id": "9afd538d",
   "metadata": {},
   "outputs": [
    {
     "data": {
      "text/plain": [
       "(20, 21)"
      ]
     },
     "execution_count": 31,
     "metadata": {},
     "output_type": "execute_result"
    }
   ],
   "source": [
    "len(reclong_centers), len(reclong_edges)"
   ]
  },
  {
   "cell_type": "code",
   "execution_count": 32,
   "id": "16b70f10",
   "metadata": {},
   "outputs": [
    {
     "data": {
      "application/vnd.jupyter.widget-view+json": {
       "model_id": "d86963d09f524739aaa016876953b528",
       "version_major": 2,
       "version_minor": 0
      },
      "text/plain": [
       "Figure(axes=[ColorAxis(orientation='vertical', scale=ColorScale(), side='right'), Axis(label='Longitude', scal…"
      ]
     },
     "metadata": {},
     "output_type": "display_data"
    }
   ],
   "source": [
    "# plot data with grid heat map based on our histogram\n",
    "\n",
    "# 2. Building the scales for the Grid HeatMap\n",
    "col_sc = bqplot.ColorScale(scheme='RdYlGn')\n",
    "x_sc = bqplot.LinearScale()\n",
    "y_sc = bqplot.LinearScale()\n",
    "\n",
    "# 3. Building the color, x and y axis for our grid heatmap\n",
    "col_ax = bqplot.ColorAxis(scale=col_sc, orientation='vertical', side='right')\n",
    "x_ax = bqplot.Axis(scale=x_sc, label='Longitude')\n",
    "y_ax = bqplot.Axis(scale=y_sc, orientation='vertical', label='Latitude')\n",
    "\n",
    "# 4. Creating the marks\n",
    "heat_map = bqplot.GridHeatMap(color=hist2d,\n",
    "                             row=reclat_centers,\n",
    "                             column=reclong_centers, \n",
    "                             scales={'color':col_sc,'row':y_sc, 'column':x_sc},\n",
    "                             interactions={'click':'select'},\n",
    "                             selected_style={'fill':'cyan'})\n",
    "\n",
    "fig = bqplot.Figure(marks=[heat_map], axes=[col_ax,x_ax, y_ax])\n",
    "fig"
   ]
  },
  {
   "cell_type": "code",
   "execution_count": 33,
   "id": "fa4a2970",
   "metadata": {},
   "outputs": [],
   "source": [
    "#bqplot.ColorScale?"
   ]
  },
  {
   "cell_type": "code",
   "execution_count": 34,
   "id": "e8145094",
   "metadata": {},
   "outputs": [],
   "source": [
    "#Creating our label for interactivity\n",
    "myLabel = ipywidgets.Label()"
   ]
  },
  {
   "cell_type": "code",
   "execution_count": 35,
   "id": "9d3abd34",
   "metadata": {},
   "outputs": [],
   "source": [
    "# 2. scales\n",
    "col_sc = bqplot.ColorScale(scheme='RdYlGn')\n",
    "x_sc = bqplot.LinearScale()   #use of linear scale and not ordinal as latitudes and longitudes are numerical variables\n",
    "y_sc = bqplot.LinearScale()\n",
    "\n",
    "# 3. axis\n",
    "col_ax = bqplot.ColorAxis(scale=col_sc, orientation='vertical', side='right')\n",
    "x_ax = bqplot.Axis(scale=x_sc, label='Longitude')\n",
    "y_ax = bqplot.Axis(scale=y_sc, orientation='vertical', label='Latitude')\n",
    "\n",
    "# 4. marks\n",
    "heat_map = bqplot.GridHeatMap(color=hist2d,\n",
    "                             row=reclat_centers,\n",
    "                             column=reclong_centers, \n",
    "                             scales={'color':col_sc,'row':y_sc, 'column':x_sc},\n",
    "                             interactions={'click':'select'},\n",
    "                             selected_style={'fill':'cyan'})\n",
    "\n",
    "fig = bqplot.Figure(marks=[heat_map], axes=[col_ax,x_ax, y_ax])"
   ]
  },
  {
   "cell_type": "code",
   "execution_count": 36,
   "id": "2ef8faa7",
   "metadata": {},
   "outputs": [],
   "source": [
    "#What happens to our label when we click on a block of grid heatmap? Let's build that selection\n",
    "def on_selection(change):\n",
    "    if len(change['owner'].selected==1): # only allow user to select one grid\n",
    "        i,j = change['owner'].selected[0] \n",
    "        v = hist2d[i,j]                  #getting i,j value from our histogram built above\n",
    "        myLabel.value = 'Total Mass in log =' + str(v)"
   ]
  },
  {
   "cell_type": "code",
   "execution_count": 37,
   "id": "203e668b",
   "metadata": {},
   "outputs": [],
   "source": [
    "#Observating changes is important\n",
    "heat_map.observe(on_selection,'selected')"
   ]
  },
  {
   "cell_type": "code",
   "execution_count": 38,
   "id": "7b0d4ceb",
   "metadata": {},
   "outputs": [
    {
     "data": {
      "application/vnd.jupyter.widget-view+json": {
       "model_id": "91523550f073420e8eb877db8dbd7fad",
       "version_major": 2,
       "version_minor": 0
      },
      "text/plain": [
       "VBox(children=(Label(value=''), Figure(axes=[ColorAxis(orientation='vertical', scale=ColorScale(), side='right…"
      ]
     },
     "metadata": {},
     "output_type": "display_data"
    }
   ],
   "source": [
    "#building horizontal box where myLabel would be placed on top and then Grid HeatMap on bottom\n",
    "myDashboard = ipywidgets.VBox([myLabel,fig])\n",
    "myDashboard"
   ]
  },
  {
   "cell_type": "code",
   "execution_count": 39,
   "id": "94993349",
   "metadata": {},
   "outputs": [],
   "source": [
    "import datetime as dt # formatting our data"
   ]
  },
  {
   "cell_type": "code",
   "execution_count": 40,
   "id": "4bf66db5",
   "metadata": {},
   "outputs": [],
   "source": [
    "#Formatting our data based on the year value\n",
    "#Set the range for year to be 1688 which is the minimum year value in our dataset for x-axis\n",
    "#Set the range for year to be 2013 which is the maximum year value in our dataset for x-axis\n",
    "\n",
    "# 2. Building the scales for our scatter plot\n",
    "#Min year in our dataset is 1688 and maximum year in our dataset is 2013\n",
    "x_scs = bqplot.DateScale(min=dt.datetime(1688,1,1), max=dt.datetime(2013,1,1))"
   ]
  },
  {
   "cell_type": "code",
   "execution_count": 41,
   "id": "1e385528",
   "metadata": {},
   "outputs": [
    {
     "data": {
      "text/plain": [
       "(0.15, 23000000.0)"
      ]
     },
     "execution_count": 41,
     "metadata": {},
     "output_type": "execute_result"
    }
   ],
   "source": [
    "#Let's check the range for our mass field in the dataset\n",
    "meteor_landing_new['mass'].min(), meteor_landing_new['mass'].max()"
   ]
  },
  {
   "cell_type": "code",
   "execution_count": 42,
   "id": "1e4f3aa8",
   "metadata": {},
   "outputs": [],
   "source": [
    "#Since we have such a big variation in mass. Let's use the log scale to cut down the value for mass on y-axis"
   ]
  },
  {
   "cell_type": "code",
   "execution_count": 43,
   "id": "0fc5febc",
   "metadata": {},
   "outputs": [],
   "source": [
    "y_scs = bqplot.LogScale()"
   ]
  },
  {
   "cell_type": "code",
   "execution_count": 44,
   "id": "6360dd7e",
   "metadata": {},
   "outputs": [],
   "source": [
    "# 3. Building the axis for our Scatter Plot\n",
    "\n",
    "x_axs = bqplot.Axis(label='Year', scale=x_scs)\n",
    "y_axs = bqplot.Axis(label='Mass', scale=y_scs, orientation='vertical')"
   ]
  },
  {
   "cell_type": "code",
   "execution_count": 45,
   "id": "74fbed42",
   "metadata": {},
   "outputs": [],
   "source": [
    "#Let's select one grid of the grid heat map to plot on the scatter plot as 1000 records from sample data would become messy on the plot\n",
    "\n",
    "i,j = 13, 4 #(This grid has close to 30 data point and would be good for analysis)"
   ]
  },
  {
   "cell_type": "code",
   "execution_count": 46,
   "id": "353f7b75",
   "metadata": {},
   "outputs": [
    {
     "data": {
      "text/plain": [
       "(-90.0, -75.0)"
      ]
     },
     "execution_count": 46,
     "metadata": {},
     "output_type": "execute_result"
    }
   ],
   "source": [
    "#What is the minimum and maximum longtitude for the selected grid on the heatmap?\n",
    "reclong_edges[j], reclong_edges[j+1]"
   ]
  },
  {
   "cell_type": "code",
   "execution_count": 47,
   "id": "2831c368",
   "metadata": {},
   "outputs": [
    {
     "data": {
      "text/plain": [
       "(31.5, 37.0)"
      ]
     },
     "execution_count": 47,
     "metadata": {},
     "output_type": "execute_result"
    }
   ],
   "source": [
    "#What is the minimum and maximum latitude for the selected grid on the heatmap?\n",
    "reclat_edges[i],reclat_edges[i+1]"
   ]
  },
  {
   "cell_type": "code",
   "execution_count": 48,
   "id": "768add2f",
   "metadata": {},
   "outputs": [],
   "source": [
    "#Now that we know the min and max of both latitude and longitude. Let's subset our data based on that for analysis\n",
    "minrecLong, maxrecLong = reclong_edges[j], reclong_edges[j+1] #Setting min and max longitude for analysis\n",
    "minrecLat, maxrecLat = reclat_edges[i],reclat_edges[i+1]      #Setting min and max latitude for analysis"
   ]
  },
  {
   "cell_type": "code",
   "execution_count": 49,
   "id": "f4789490",
   "metadata": {},
   "outputs": [],
   "source": [
    "#Filter our data based on min and max latitude selected in above variables\n",
    "#where longitude >= minLong and longitude <=maxLong AND latitude >= minLat and latitude <= maxLat\n",
    "region_mask = (meteor_landing_new['reclong']>=minrecLong) & (meteor_landing_new['reclong']<=maxrecLong) &\\\n",
    "    (meteor_landing_new['reclat']>=minrecLat) & (meteor_landing_new['reclat']<=maxrecLat)"
   ]
  },
  {
   "cell_type": "code",
   "execution_count": 50,
   "id": "c34a9962",
   "metadata": {},
   "outputs": [
    {
     "data": {
      "text/plain": [
       "0      False\n",
       "1      False\n",
       "2      False\n",
       "3      False\n",
       "4      False\n",
       "       ...  \n",
       "995    False\n",
       "996    False\n",
       "997    False\n",
       "998    False\n",
       "999    False\n",
       "Length: 948, dtype: bool"
      ]
     },
     "execution_count": 50,
     "metadata": {},
     "output_type": "execute_result"
    }
   ],
   "source": [
    "#Most of our data would be false as we are selecting only one grid out of 20X20, so only selected one will be True\n",
    "region_mask"
   ]
  },
  {
   "cell_type": "code",
   "execution_count": 51,
   "id": "7630e94f",
   "metadata": {},
   "outputs": [
    {
     "data": {
      "text/plain": [
       "(31.5,\n",
       " 37.0,\n",
       " 54     34.75000\n",
       " 67     35.96667\n",
       " 68     34.50000\n",
       " 118    34.16667\n",
       " 171    36.08333\n",
       " 175    36.50000\n",
       " 187    36.16667\n",
       " 197    35.03333\n",
       " 207    32.10250\n",
       " 218    35.63333\n",
       " 220    36.83333\n",
       " 225    34.40000\n",
       " 257    36.40000\n",
       " 293    35.55000\n",
       " 297    32.53333\n",
       " 299    36.10000\n",
       " 305    36.78333\n",
       " 307    33.01667\n",
       " 309    34.48333\n",
       " 536    34.58333\n",
       " 557    32.03333\n",
       " 595    35.80000\n",
       " 640    35.25000\n",
       " 646    35.41667\n",
       " 663    36.60000\n",
       " 786    35.30000\n",
       " 799    31.95000\n",
       " 850    35.03333\n",
       " 970    33.18836\n",
       " Name: reclat, dtype: float64)"
      ]
     },
     "execution_count": 51,
     "metadata": {},
     "output_type": "execute_result"
    }
   ],
   "source": [
    "#First check the min and max latitude for the region mask created and then all latitude should fall under that\n",
    "minrecLat, maxrecLat, meteor_landing_new['reclat'][region_mask]"
   ]
  },
  {
   "cell_type": "markdown",
   "id": "c7979143",
   "metadata": {},
   "source": [
    "### As we can see above all the latitude value is falling between 31.5 and 37.0 which is expected"
   ]
  },
  {
   "cell_type": "code",
   "execution_count": 52,
   "id": "0f6e0223",
   "metadata": {},
   "outputs": [
    {
     "data": {
      "text/plain": [
       "(31.95, 36.83333)"
      ]
     },
     "execution_count": 52,
     "metadata": {},
     "output_type": "execute_result"
    }
   ],
   "source": [
    "#Lets see the actual minimum and maximum latitude in our selected region on the grid\n",
    "meteor_landing_new['reclat'][region_mask].min(), meteor_landing_new['reclat'][region_mask].max()"
   ]
  },
  {
   "cell_type": "code",
   "execution_count": 53,
   "id": "8a717612",
   "metadata": {},
   "outputs": [
    {
     "data": {
      "text/plain": [
       "(Timestamp('1810-01-01 00:00:00'), Timestamp('1984-01-01 00:00:00'))"
      ]
     },
     "execution_count": 53,
     "metadata": {},
     "output_type": "execute_result"
    }
   ],
   "source": [
    "##Lets see the minimum and maximum year in our masked region on the grid\n",
    "meteor_landing_new['year'][region_mask].min(), meteor_landing_new['year'][region_mask].max()"
   ]
  },
  {
   "cell_type": "code",
   "execution_count": 54,
   "id": "fcf5a206",
   "metadata": {},
   "outputs": [
    {
     "data": {
      "text/plain": [
       "(167.0, 56000.0)"
      ]
     },
     "execution_count": 54,
     "metadata": {},
     "output_type": "execute_result"
    }
   ],
   "source": [
    "##Lets see the minimum and maximum mass in our masked region on the grid\n",
    "meteor_landing_new['mass'][region_mask].min(), meteor_landing_new['mass'][region_mask].max()"
   ]
  },
  {
   "cell_type": "code",
   "execution_count": 55,
   "id": "f28d6c71",
   "metadata": {},
   "outputs": [
    {
     "data": {
      "text/plain": [
       "54       265.0\n",
       "67      3700.0\n",
       "68       345.0\n",
       "118     6000.0\n",
       "171     7300.0\n",
       "175     1360.0\n",
       "187     4300.0\n",
       "197     8400.0\n",
       "207     1455.0\n",
       "218      167.0\n",
       "220    17000.0\n",
       "225     2000.0\n",
       "257     5000.0\n",
       "293    56000.0\n",
       "297     3200.0\n",
       "299      220.0\n",
       "305     6067.0\n",
       "307    16300.0\n",
       "309      650.0\n",
       "536      877.0\n",
       "557      340.0\n",
       "595     1443.0\n",
       "640     8600.0\n",
       "646     1880.0\n",
       "663    12600.0\n",
       "786     1800.0\n",
       "799     3760.0\n",
       "850      668.0\n",
       "970     5560.0\n",
       "Name: mass, dtype: float64"
      ]
     },
     "execution_count": 55,
     "metadata": {},
     "output_type": "execute_result"
    }
   ],
   "source": [
    "#list mass of all the entries in the masked region\n",
    "meteor_landing_new['mass'][region_mask]"
   ]
  },
  {
   "cell_type": "code",
   "execution_count": 56,
   "id": "2835fe46",
   "metadata": {},
   "outputs": [
    {
     "data": {
      "text/plain": [
       "54    1933-01-01\n",
       "67    1929-01-01\n",
       "68    1922-01-01\n",
       "118   1843-01-01\n",
       "171   1874-01-01\n",
       "175   1810-01-01\n",
       "187   1835-01-01\n",
       "197   1933-01-01\n",
       "207   1984-01-01\n",
       "218   1892-01-01\n",
       "220   1919-01-01\n",
       "225   1868-01-01\n",
       "257   1827-01-01\n",
       "293   1934-01-01\n",
       "297   1900-01-01\n",
       "299   1889-01-01\n",
       "305   1924-01-01\n",
       "307   1829-01-01\n",
       "309   1868-01-01\n",
       "536   1907-01-01\n",
       "557   1869-01-01\n",
       "595   1983-01-01\n",
       "640   1849-01-01\n",
       "646   1913-01-01\n",
       "663   1950-01-01\n",
       "786   1855-01-01\n",
       "799   1921-01-01\n",
       "850   1903-01-01\n",
       "970   1954-01-01\n",
       "Name: year, dtype: datetime64[ns]"
      ]
     },
     "execution_count": 56,
     "metadata": {},
     "output_type": "execute_result"
    }
   ],
   "source": [
    "#list year of all the entries in the masked region\n",
    "meteor_landing_new['year'][region_mask]"
   ]
  },
  {
   "cell_type": "code",
   "execution_count": 57,
   "id": "87d2cf98",
   "metadata": {},
   "outputs": [],
   "source": [
    "#To verify our scatter plot, let's pick one mass and year from above and see if the plot is done correctly.\n",
    "#For example-: let's take min(year) i.e 1810 for that mass is 1360 as we can see above."
   ]
  },
  {
   "cell_type": "code",
   "execution_count": 58,
   "id": "c993b22b",
   "metadata": {},
   "outputs": [],
   "source": [
    "mass_scatt = bqplot.Scatter(x=meteor_landing_new['year'][region_mask], y=meteor_landing_new['mass'][region_mask],\n",
    "                               scales={'x':x_scs, 'y':y_scs})"
   ]
  },
  {
   "cell_type": "code",
   "execution_count": 59,
   "id": "5ace79f2",
   "metadata": {},
   "outputs": [
    {
     "data": {
      "application/vnd.jupyter.widget-view+json": {
       "model_id": "e66e52344d024a289822d5220d36e1a1",
       "version_major": 2,
       "version_minor": 0
      },
      "text/plain": [
       "Figure(axes=[Axis(label='Year', scale=DateScale(max=datetime.datetime(2013, 1, 1, 0, 0), min=datetime.datetime…"
      ]
     },
     "metadata": {},
     "output_type": "display_data"
    }
   ],
   "source": [
    "fig_mass = bqplot.Figure(marks=[mass_scatt],axes=[x_axs,y_axs])\n",
    "fig_mass"
   ]
  },
  {
   "cell_type": "code",
   "execution_count": 60,
   "id": "5430f918",
   "metadata": {},
   "outputs": [],
   "source": [
    "#We can see above that for year close to 1810, the mass on the y-axis is close to 1400,\n",
    "#which shows scatter plot is done correctly"
   ]
  },
  {
   "cell_type": "code",
   "execution_count": 61,
   "id": "007e460c",
   "metadata": {},
   "outputs": [],
   "source": [
    "#Now that we have build everything, let's put everything together"
   ]
  },
  {
   "cell_type": "code",
   "execution_count": 62,
   "id": "cdbb5452",
   "metadata": {},
   "outputs": [],
   "source": [
    "#### GRID HEAT MAP #####\n",
    "\n",
    "# 2. scales\n",
    "col_sc = bqplot.ColorScale(scheme='RdYlGn')\n",
    "x_sc = bqplot.LinearScale()\n",
    "y_sc = bqplot.LinearScale()\n",
    "\n",
    "# 3. axis\n",
    "col_ax = bqplot.ColorAxis(scale=col_sc, orientation='vertical', side='right')\n",
    "x_ax = bqplot.Axis(scale=x_sc, label='Longitude')\n",
    "y_ax = bqplot.Axis(scale=y_sc, orientation='vertical', label='Latitude')\n",
    "\n",
    "# 4. marks\n",
    "heat_map = bqplot.GridHeatMap(color=hist2d,\n",
    "                             row=reclat_centers,\n",
    "                             column=reclong_centers, \n",
    "                             scales={'color':col_sc,'row':y_sc, 'column':x_sc},\n",
    "                             interactions={'click':'select'},\n",
    "                             selected_style={'fill':'cyan'})\n",
    "\n",
    "fig = bqplot.Figure(marks=[heat_map], axes=[col_ax,x_ax, y_ax])"
   ]
  },
  {
   "cell_type": "code",
   "execution_count": 63,
   "id": "8d7e4032",
   "metadata": {},
   "outputs": [],
   "source": [
    "#Getting the label in place as well\n",
    "myLabel = ipywidgets.Label()"
   ]
  },
  {
   "cell_type": "code",
   "execution_count": 64,
   "id": "2ee7ea9d",
   "metadata": {},
   "outputs": [],
   "source": [
    "######## SCATTER PLOT ######\n",
    "#2.scales\n",
    "x_scs = bqplot.DateScale(min=dt.datetime(1688,1,1), max=dt.datetime(2013,1,1))\n",
    "y_scs = bqplot.LogScale()\n",
    "\n",
    "# 3. Axis\n",
    "x_axs = bqplot.Axis(label='Year', scale=x_scs)\n",
    "y_axs = bqplot.Axis(label='Mass', scale=y_scs, orientation='vertical')\n",
    "\n",
    "#Hard coding the value of i and j to start with to get the values from selection of grid\n",
    "\n",
    "i,j = 13, 4 \n",
    "\n",
    "minrecLong, maxrecLong = reclong_edges[j], reclong_edges[j+1]\n",
    "minrecLat, maxrecLat = reclat_edges[i],reclat_edges[i+1]\n",
    "# want all the data that has reclong >= minrecLong AND reclong <= maxrecLong AND reclat >= minrecLat AND reclat <= maxrecLat\n",
    "region_mask = (meteor_landing_new['reclong']>=minrecLong) & (meteor_landing_new['reclong']<=maxrecLong) &\\\n",
    "    (meteor_landing_new['reclat']>=minrecLat) & (meteor_landing_new['reclat']<=maxrecLat)\n",
    "\n",
    "# 4. Marks\n",
    "mass_scatt = bqplot.Scatter(x=meteor_landing_new['year'][region_mask], y=meteor_landing_new['mass'][region_mask],\n",
    "                               scales={'x':x_scs, 'y':y_scs})\n",
    "\n",
    "fig_mass = bqplot.Figure(marks=[mass_scatt],axes=[x_axs,y_axs])"
   ]
  },
  {
   "cell_type": "code",
   "execution_count": 65,
   "id": "d5b2c86c",
   "metadata": {},
   "outputs": [],
   "source": [
    "def on_selection(change):\n",
    "    if len(change['owner'].selected==1): # only allow user to select one grid\n",
    "        i,j = change['owner'].selected[0]\n",
    "        v = hist2d[i,j]\n",
    "        myLabel.value = 'Total Mass =' + str(v) \n",
    "        \n",
    "heat_map.observe(on_selection,'selected')"
   ]
  },
  {
   "cell_type": "code",
   "execution_count": 66,
   "id": "109373f5",
   "metadata": {},
   "outputs": [
    {
     "data": {
      "application/vnd.jupyter.widget-view+json": {
       "model_id": "d7745b2923a84ad68e22d80208aab7a8",
       "version_major": 2,
       "version_minor": 0
      },
      "text/plain": [
       "VBox(children=(Label(value=''), HBox(children=(Figure(axes=[ColorAxis(orientation='vertical', scale=ColorScale…"
      ]
     },
     "metadata": {},
     "output_type": "display_data"
    }
   ],
   "source": [
    "figures = ipywidgets.HBox([fig,fig_mass]) #Getting together gridheatmap and scatter plot in horizontal box\n",
    "fig.layout.min_width='400px'      #Setting minium width for Grid heatmap\n",
    "fig_mass.layout.min_width='400px' #Setting minium width for scatterplot\n",
    "myDashboard = ipywidgets.VBox([myLabel,figures])\n",
    "myDashboard"
   ]
  },
  {
   "cell_type": "code",
   "execution_count": 67,
   "id": "a7708c28",
   "metadata": {},
   "outputs": [],
   "source": [
    "#Till now we have hardcoded the value of selection of i and j and that is why the scatter plot is unaffected even\n",
    "#after selecting. Let's now go and enable the change of scatter plot based on selecting grid on heatmap"
   ]
  },
  {
   "cell_type": "code",
   "execution_count": 68,
   "id": "55ac92ff",
   "metadata": {},
   "outputs": [
    {
     "data": {
      "text/plain": [
       "['_model_module',\n",
       " '_model_module_version',\n",
       " '_model_name',\n",
       " '_view_count',\n",
       " '_view_module',\n",
       " '_view_module_version',\n",
       " '_view_name',\n",
       " 'apply_clip',\n",
       " 'color',\n",
       " 'colors',\n",
       " 'default_size',\n",
       " 'default_skew',\n",
       " 'display_legend',\n",
       " 'display_names',\n",
       " 'drag_color',\n",
       " 'drag_size',\n",
       " 'enable_delete',\n",
       " 'enable_hover',\n",
       " 'enable_move',\n",
       " 'fill',\n",
       " 'hovered_point',\n",
       " 'hovered_style',\n",
       " 'interactions',\n",
       " 'label_display_horizontal_offset',\n",
       " 'label_display_vertical_offset',\n",
       " 'labels',\n",
       " 'marker',\n",
       " 'names',\n",
       " 'names_unique',\n",
       " 'opacities',\n",
       " 'opacity',\n",
       " 'preserve_domain',\n",
       " 'restrict_x',\n",
       " 'restrict_y',\n",
       " 'rotation',\n",
       " 'scales',\n",
       " 'scales_metadata',\n",
       " 'selected',\n",
       " 'selected_style',\n",
       " 'size',\n",
       " 'skew',\n",
       " 'stroke',\n",
       " 'stroke_width',\n",
       " 'tooltip',\n",
       " 'tooltip_location',\n",
       " 'tooltip_style',\n",
       " 'unhovered_style',\n",
       " 'unselected_style',\n",
       " 'update_on_move',\n",
       " 'visible',\n",
       " 'x',\n",
       " 'y']"
      ]
     },
     "execution_count": 68,
     "metadata": {},
     "output_type": "execute_result"
    }
   ],
   "source": [
    "#Lets see what all keys we can use from scatter plot to make changes in scatter plot\n",
    "mass_scatt.keys"
   ]
  },
  {
   "cell_type": "code",
   "execution_count": 69,
   "id": "4fcf5ab0",
   "metadata": {},
   "outputs": [
    {
     "data": {
      "text/plain": [
       "array(['1933-01-01T00:00:00.000000000', '1929-01-01T00:00:00.000000000',\n",
       "       '1922-01-01T00:00:00.000000000', '1843-01-01T00:00:00.000000000',\n",
       "       '1874-01-01T00:00:00.000000000', '1810-01-01T00:00:00.000000000',\n",
       "       '1835-01-01T00:00:00.000000000', '1933-01-01T00:00:00.000000000',\n",
       "       '1984-01-01T00:00:00.000000000', '1892-01-01T00:00:00.000000000',\n",
       "       '1919-01-01T00:00:00.000000000', '1868-01-01T00:00:00.000000000',\n",
       "       '1827-01-01T00:00:00.000000000', '1934-01-01T00:00:00.000000000',\n",
       "       '1900-01-01T00:00:00.000000000', '1889-01-01T00:00:00.000000000',\n",
       "       '1924-01-01T00:00:00.000000000', '1829-01-01T00:00:00.000000000',\n",
       "       '1868-01-01T00:00:00.000000000', '1907-01-01T00:00:00.000000000',\n",
       "       '1869-01-01T00:00:00.000000000', '1983-01-01T00:00:00.000000000',\n",
       "       '1849-01-01T00:00:00.000000000', '1913-01-01T00:00:00.000000000',\n",
       "       '1950-01-01T00:00:00.000000000', '1855-01-01T00:00:00.000000000',\n",
       "       '1921-01-01T00:00:00.000000000', '1903-01-01T00:00:00.000000000',\n",
       "       '1954-01-01T00:00:00.000000000'], dtype='datetime64[ns]')"
      ]
     },
     "execution_count": 69,
     "metadata": {},
     "output_type": "execute_result"
    }
   ],
   "source": [
    "mass_scatt.x"
   ]
  },
  {
   "cell_type": "code",
   "execution_count": 70,
   "id": "09c16e64",
   "metadata": {},
   "outputs": [
    {
     "data": {
      "text/plain": [
       "array([  265.,  3700.,   345.,  6000.,  7300.,  1360.,  4300.,  8400.,\n",
       "        1455.,   167., 17000.,  2000.,  5000., 56000.,  3200.,   220.,\n",
       "        6067., 16300.,   650.,   877.,   340.,  1443.,  8600.,  1880.,\n",
       "       12600.,  1800.,  3760.,   668.,  5560.])"
      ]
     },
     "execution_count": 70,
     "metadata": {},
     "output_type": "execute_result"
    }
   ],
   "source": [
    "mass_scatt.y"
   ]
  },
  {
   "cell_type": "code",
   "execution_count": 71,
   "id": "9273de36",
   "metadata": {},
   "outputs": [],
   "source": [
    "#We should be able to update the x and y of the scatter plot based on our selection of gridheatmap"
   ]
  },
  {
   "cell_type": "code",
   "execution_count": 72,
   "id": "51ad11e6",
   "metadata": {},
   "outputs": [],
   "source": [
    "#### GRID HEAT MAP #####\n",
    "\n",
    "# 2. scales\n",
    "col_sc = bqplot.ColorScale(scheme='RdYlGn')\n",
    "x_sc = bqplot.LinearScale()\n",
    "y_sc = bqplot.LinearScale()\n",
    "\n",
    "# 3. axis\n",
    "col_ax = bqplot.ColorAxis(scale=col_sc, orientation='vertical', side='right')\n",
    "x_ax = bqplot.Axis(scale=x_sc, label='Longitude')\n",
    "y_ax = bqplot.Axis(scale=y_sc, orientation='vertical', label='Latitude')\n",
    "\n",
    "# 4. marks\n",
    "heat_map = bqplot.GridHeatMap(color=hist2d,\n",
    "                             row=reclat_centers,\n",
    "                             column=reclong_centers, \n",
    "                             scales={'color':col_sc,'row':y_sc, 'column':x_sc},\n",
    "                             interactions={'click':'select'},\n",
    "                             selected_style={'fill':'cyan'})\n",
    "\n",
    "fig = bqplot.Figure(marks=[heat_map], axes=[col_ax,x_ax, y_ax])"
   ]
  },
  {
   "cell_type": "code",
   "execution_count": 73,
   "id": "34948b13",
   "metadata": {},
   "outputs": [],
   "source": [
    "myLabel = ipywidgets.Label()"
   ]
  },
  {
   "cell_type": "code",
   "execution_count": 74,
   "id": "681bdd44",
   "metadata": {},
   "outputs": [],
   "source": [
    "######## SCATTER PLOT ######\n",
    "#2.scales\n",
    "x_scs = bqplot.DateScale(min=dt.datetime(1688,1,1), max=dt.datetime(2013,1,1))\n",
    "y_scs = bqplot.LogScale()\n",
    "\n",
    "# 3. Axis\n",
    "x_axs = bqplot.Axis(label='Year', scale=x_scs)\n",
    "y_axs = bqplot.Axis(label='Mass', scale=y_scs, orientation='vertical')\n",
    "\n",
    "i,j = 13, 4 # this has a lot of data (I think!)\n",
    "minrecLong, maxrecLong = reclong_edges[j], reclong_edges[j+1]\n",
    "minrecLat, maxrecLat = reclat_edges[i],reclat_edges[i+1]\n",
    "# want all the data that has reclong >= minrecLong AND reclong <= maxrecLong AND reclat >= minrecLat AND reclat <= maxrecLat\n",
    "region_mask = (meteor_landing_new['reclong']>=minrecLong) & (meteor_landing_new['reclong']<=maxrecLong) &\\\n",
    "    (meteor_landing_new['reclat']>=minrecLat) & (meteor_landing_new['reclat']<=maxrecLat)\n",
    "\n",
    "# 4. Marks\n",
    "mass_scatt = bqplot.Scatter(x=meteor_landing_new['year'][region_mask], y=meteor_landing_new['mass'][region_mask],\n",
    "                               scales={'x':x_scs, 'y':y_scs})\n",
    "\n",
    "fig_mass = bqplot.Figure(marks=[mass_scatt],axes=[x_axs,y_axs])"
   ]
  },
  {
   "cell_type": "code",
   "execution_count": 75,
   "id": "d7373b50",
   "metadata": {},
   "outputs": [],
   "source": [
    "def on_selection(change):\n",
    "    if len(change['owner'].selected==1): # only allow user to select one grid\n",
    "        i,j = change['owner'].selected[0]\n",
    "        v = hist2d[i,j]\n",
    "        myLabel.value = 'Total mass =' + str(v)\n",
    "        # update mask based on new i,j combo\n",
    "        minrecLong, maxrecLong = reclong_edges[j], reclong_edges[j+1]\n",
    "        minrecLat, maxrecLat = reclat_edges[i],reclat_edges[i+1]\n",
    "        # want all the data that has reclong >= minrecLong AND reclong <= maxrecLong AND reclat >= minrecLat AND reclat <= maxrecLat\n",
    "        region_mask = (meteor_landing_new['reclong']>=minrecLong) & (meteor_landing_new['reclong']<=maxrecLong) &\\\n",
    "            (meteor_landing_new['reclat']>=minrecLat) & (meteor_landing_new['reclat']<=maxrecLat)\n",
    "        # update x/y based on new selection\n",
    "        mass_scatt.x = meteor_landing_new['year'][region_mask]\n",
    "        mass_scatt.y = meteor_landing_new['mass'][region_mask]\n",
    "        \n",
    "heat_map.observe(on_selection,'selected')"
   ]
  },
  {
   "cell_type": "code",
   "execution_count": 76,
   "id": "eaee47a3",
   "metadata": {},
   "outputs": [
    {
     "data": {
      "application/vnd.jupyter.widget-view+json": {
       "model_id": "78dd04d85d1649a395900613a1299efd",
       "version_major": 2,
       "version_minor": 0
      },
      "text/plain": [
       "VBox(children=(Label(value=''), HBox(children=(Figure(axes=[ColorAxis(orientation='vertical', scale=ColorScale…"
      ]
     },
     "metadata": {},
     "output_type": "display_data"
    }
   ],
   "source": [
    "figures = ipywidgets.HBox([fig,fig_mass])\n",
    "fig.layout.min_width='400px'\n",
    "fig_mass.layout.min_width='400px'\n",
    "myDashboard = ipywidgets.VBox([myLabel,figures])\n",
    "myDashboard"
   ]
  },
  {
   "cell_type": "markdown",
   "id": "09aa8e91",
   "metadata": {},
   "source": [
    "### One paragraph explaining how to use the dashboard you created, to help someone who is not an expert understand your dataset.\n",
    "\n",
    "So, now that the dashboard has been developed, the end-user who will be using it for analytical purposes only has to choose a grid from the grid heat map. This selection will filter a particular latitude and longitude for our analysis purposes and based on this the scatter plot will be created for that latitude and longitude. The grid heatmap on the left side has a legend on the right side which starts from 1 and end with 7 with colors varying from red->yellow->green. More red means the total mass of meteorites for that selected bin is lesser and as the grid colors changes from yellow to green the total mass of the meteorites increases for that selection. To make dashboard interactive, when a user selects the grid it's coded to be changed to 'cyan' color, this will help the user to know which particular grid is in sleection as that current point of time. The scatter plot which can be seen on the right side of the dashboard plots individual mass of the meteorites for that selected latitudes and longitudes and also tells us around which year these meteorites had fallen."
   ]
  },
  {
   "cell_type": "markdown",
   "id": "731a34e7",
   "metadata": {},
   "source": [
    "### As it becomes time-taking activity for python to plot each individual plots on the scatter plot and also take care of the overlapping of scatter. It's better to construct histograms instead of scatter plots for analysing this data\n",
    "### Let's go ahead and build the same grid heat map but now instead of scatter plot we will construct histograms for showing the total mass of meteroites for that year"
   ]
  },
  {
   "cell_type": "markdown",
   "id": "c7eacfec",
   "metadata": {},
   "source": [
    "# **************************************************************************************** #"
   ]
  },
  {
   "cell_type": "code",
   "execution_count": 77,
   "id": "4bf8a369",
   "metadata": {},
   "outputs": [],
   "source": [
    "#### GRID HEAT MAP #####\n",
    "\n",
    "# 2. scales\n",
    "col_sc = bqplot.ColorScale(scheme='RdYlGn')\n",
    "x_sc = bqplot.LinearScale()\n",
    "y_sc = bqplot.LinearScale()\n",
    "\n",
    "# 3. axis\n",
    "col_ax = bqplot.ColorAxis(scale=col_sc, orientation='vertical', side='right')\n",
    "x_ax = bqplot.Axis(scale=x_sc, label='Longitude')\n",
    "y_ax = bqplot.Axis(scale=y_sc, orientation='vertical', label='Latitude')\n",
    "\n",
    "# 4. marks\n",
    "heat_map = bqplot.GridHeatMap(color=hist2d,\n",
    "                             row=reclat_centers,\n",
    "                             column=reclong_centers, \n",
    "                             scales={'color':col_sc,'row':y_sc, 'column':x_sc},\n",
    "                             interactions={'click':'select'},\n",
    "                             selected_style={'fill':'cyan'})\n",
    "\n",
    "fig = bqplot.Figure(marks=[heat_map], axes=[col_ax,x_ax, y_ax])"
   ]
  },
  {
   "cell_type": "code",
   "execution_count": 78,
   "id": "44d0e9a0",
   "metadata": {},
   "outputs": [],
   "source": [
    "myLabel = ipywidgets.Label()"
   ]
  },
  {
   "cell_type": "code",
   "execution_count": 79,
   "id": "92de0b43",
   "metadata": {},
   "outputs": [],
   "source": [
    "####### BAR PLOT ######\n",
    "# for each date bin -- count up the TOTAL duration in seconds (across all observations)\n",
    "# 2. scales\n",
    "x_scb = bqplot.LinearScale()\n",
    "y_scb = bqplot.LinearScale()\n",
    "# 3. axis \n",
    "x_axb = bqplot.Axis(label='Year', scale=x_scb)\n",
    "y_axb = bqplot.Axis(label='Total Mass', scale=y_scb, orientation='vertical')\n",
    "\n",
    "# masking\n",
    "i,j = 13, 4 # this has a lot of data (I think!)\n",
    "minrecLong, maxrecLong = reclong_edges[j], reclong_edges[j+1]\n",
    "minrecLat, maxrecLat = reclat_edges[i],reclat_edges[i+1]\n",
    "# want all the data that has reclong >= minrecLong AND reclong <= maxrecLong AND reclat >= minrecLat AND reclat <= maxrecLat\n",
    "region_mask = (meteor_landing_new['reclong']>=minrecLong) & (meteor_landing_new['reclong']<=maxrecLong) &\\\n",
    "    (meteor_landing_new['reclat']>=minrecLat) & (meteor_landing_new['reclat']<=maxrecLat)"
   ]
  },
  {
   "cell_type": "code",
   "execution_count": 80,
   "id": "b9b4b0f1",
   "metadata": {},
   "outputs": [
    {
     "data": {
      "text/plain": [
       "0     1880-01-01\n",
       "1     1951-01-01\n",
       "2     1952-01-01\n",
       "3     1976-01-01\n",
       "4     1902-01-01\n",
       "         ...    \n",
       "995   1934-01-01\n",
       "996   2011-01-01\n",
       "997   1869-01-01\n",
       "998   1922-01-01\n",
       "999   1905-01-01\n",
       "Name: year, Length: 948, dtype: datetime64[ns]"
      ]
     },
     "execution_count": 80,
     "metadata": {},
     "output_type": "execute_result"
    }
   ],
   "source": [
    "meteor_landing_new['year']"
   ]
  },
  {
   "cell_type": "code",
   "execution_count": 81,
   "id": "405f23dd",
   "metadata": {},
   "outputs": [
    {
     "data": {
      "text/plain": [
       "0      1880\n",
       "1      1951\n",
       "2      1952\n",
       "3      1976\n",
       "4      1902\n",
       "       ... \n",
       "995    1934\n",
       "996    2011\n",
       "997    1869\n",
       "998    1922\n",
       "999    1905\n",
       "Name: year, Length: 948, dtype: int64"
      ]
     },
     "execution_count": 81,
     "metadata": {},
     "output_type": "execute_result"
    }
   ],
   "source": [
    "meteor_landing_new['year'].dt.year"
   ]
  },
  {
   "cell_type": "code",
   "execution_count": 82,
   "id": "0ebe7e5e",
   "metadata": {},
   "outputs": [
    {
     "name": "stderr",
     "output_type": "stream",
     "text": [
      "/Users/pratham/opt/anaconda3/envs/DataViz/lib/python3.7/site-packages/ipykernel_launcher.py:1: SettingWithCopyWarning: \n",
      "A value is trying to be set on a copy of a slice from a DataFrame.\n",
      "Try using .loc[row_indexer,col_indexer] = value instead\n",
      "\n",
      "See the caveats in the documentation: https://pandas.pydata.org/pandas-docs/stable/user_guide/indexing.html#returning-a-view-versus-a-copy\n",
      "  \"\"\"Entry point for launching an IPython kernel.\n"
     ]
    }
   ],
   "source": [
    "meteor_landing_new['ext_year'] = meteor_landing_new['year'].dt.year # save year from datetime format in new column ext_year"
   ]
  },
  {
   "cell_type": "code",
   "execution_count": 83,
   "id": "9f3a4415",
   "metadata": {},
   "outputs": [
    {
     "data": {
      "text/plain": [
       "0      1880\n",
       "1      1951\n",
       "2      1952\n",
       "3      1976\n",
       "4      1902\n",
       "       ... \n",
       "995    1934\n",
       "996    2011\n",
       "997    1869\n",
       "998    1922\n",
       "999    1905\n",
       "Name: ext_year, Length: 948, dtype: int64"
      ]
     },
     "execution_count": 83,
     "metadata": {},
     "output_type": "execute_result"
    }
   ],
   "source": [
    "meteor_landing_new['ext_year']"
   ]
  },
  {
   "cell_type": "code",
   "execution_count": 84,
   "id": "7935e566",
   "metadata": {},
   "outputs": [],
   "source": [
    "# histogram the mass of meteorites per year\n",
    "#Building 1-D histograms\n",
    "mass, mass_edges = np.histogram(meteor_landing_new['ext_year'][region_mask], \n",
    "                             weights=meteor_landing_new['mass'][region_mask], bins=10)"
   ]
  },
  {
   "cell_type": "code",
   "execution_count": 85,
   "id": "6341bb5c",
   "metadata": {},
   "outputs": [
    {
     "data": {
      "text/plain": [
       "array([ 6360., 26600., 10400., 10290.,   387.,  6625., 30872., 64665.,\n",
       "       18160.,  2898.])"
      ]
     },
     "execution_count": 85,
     "metadata": {},
     "output_type": "execute_result"
    }
   ],
   "source": [
    "#Lets look at the mass value now\n",
    "mass"
   ]
  },
  {
   "cell_type": "code",
   "execution_count": 86,
   "id": "07319f4f",
   "metadata": {},
   "outputs": [
    {
     "data": {
      "text/plain": [
       "array([1810. , 1827.4, 1844.8, 1862.2, 1879.6, 1897. , 1914.4, 1931.8,\n",
       "       1949.2, 1966.6, 1984. ])"
      ]
     },
     "execution_count": 86,
     "metadata": {},
     "output_type": "execute_result"
    }
   ],
   "source": [
    "#Lets look at the edges now\n",
    "mass_edges"
   ]
  },
  {
   "cell_type": "code",
   "execution_count": 87,
   "id": "c37ae4a2",
   "metadata": {},
   "outputs": [
    {
     "data": {
      "text/plain": [
       "(10, 11)"
      ]
     },
     "execution_count": 87,
     "metadata": {},
     "output_type": "execute_result"
    }
   ],
   "source": [
    "#Length of mass and length of edges\n",
    "len(mass), len(mass_edges)"
   ]
  },
  {
   "cell_type": "code",
   "execution_count": 88,
   "id": "e33518f4",
   "metadata": {},
   "outputs": [],
   "source": [
    "#Lets get the center for each bins of the histogram\n",
    "mass_centers = (mass_edges[:-1] + mass_edges[1:])/2"
   ]
  },
  {
   "cell_type": "code",
   "execution_count": 89,
   "id": "11f584a9",
   "metadata": {},
   "outputs": [
    {
     "data": {
      "text/plain": [
       "array([1818.7, 1836.1, 1853.5, 1870.9, 1888.3, 1905.7, 1923.1, 1940.5,\n",
       "       1957.9, 1975.3])"
      ]
     },
     "execution_count": 89,
     "metadata": {},
     "output_type": "execute_result"
    }
   ],
   "source": [
    "mass_centers"
   ]
  },
  {
   "cell_type": "code",
   "execution_count": 90,
   "id": "dfc1d4f2",
   "metadata": {},
   "outputs": [],
   "source": [
    "mass_hist = bqplot.Bars(x=mass_centers, y=mass, scales={'x':x_scb, 'y':y_scb})"
   ]
  },
  {
   "cell_type": "code",
   "execution_count": 91,
   "id": "8e6a22e6",
   "metadata": {},
   "outputs": [],
   "source": [
    "#bqplot.Bars?"
   ]
  },
  {
   "cell_type": "code",
   "execution_count": 92,
   "id": "c7519f2a",
   "metadata": {},
   "outputs": [],
   "source": [
    "fig_bars = bqplot.Figure(marks=[mass_hist],axes=[x_axb, y_axb], title='Year of Meteor Landing and Total Mass')\n",
    "#fig_bars"
   ]
  },
  {
   "cell_type": "code",
   "execution_count": 93,
   "id": "88a76e52",
   "metadata": {},
   "outputs": [
    {
     "data": {
      "text/plain": [
       "['_model_module',\n",
       " '_model_module_version',\n",
       " '_model_name',\n",
       " '_view_count',\n",
       " '_view_module',\n",
       " '_view_module_version',\n",
       " '_view_name',\n",
       " 'align',\n",
       " 'apply_clip',\n",
       " 'base',\n",
       " 'color',\n",
       " 'color_mode',\n",
       " 'colors',\n",
       " 'display_legend',\n",
       " 'enable_hover',\n",
       " 'fill',\n",
       " 'interactions',\n",
       " 'label_display',\n",
       " 'label_display_format',\n",
       " 'label_display_horizontal_offset',\n",
       " 'label_display_vertical_offset',\n",
       " 'label_font_style',\n",
       " 'labels',\n",
       " 'opacities',\n",
       " 'opacity_mode',\n",
       " 'orientation',\n",
       " 'padding',\n",
       " 'preserve_domain',\n",
       " 'scales',\n",
       " 'scales_metadata',\n",
       " 'selected',\n",
       " 'selected_style',\n",
       " 'stroke',\n",
       " 'stroke_width',\n",
       " 'tooltip',\n",
       " 'tooltip_location',\n",
       " 'tooltip_style',\n",
       " 'type',\n",
       " 'unselected_style',\n",
       " 'visible',\n",
       " 'x',\n",
       " 'y']"
      ]
     },
     "execution_count": 93,
     "metadata": {},
     "output_type": "execute_result"
    }
   ],
   "source": [
    "mass_hist.keys"
   ]
  },
  {
   "cell_type": "code",
   "execution_count": 94,
   "id": "355570ca",
   "metadata": {},
   "outputs": [],
   "source": [
    "def on_selection(change):\n",
    "    if len(change['owner'].selected==1): # only allow user to select one grid\n",
    "        i,j = change['owner'].selected[0]\n",
    "        v = hist2d[i,j]\n",
    "        myLabel.value = 'Total mass in log=' + str(v)\n",
    "        # update mask based on new i,j combo\n",
    "        minrecLong, maxrecLong = reclong_edges[j], reclong_edges[j+1]\n",
    "        minrecLat, maxrecLat = reclat_edges[i],reclat_edges[i+1]\n",
    "        # want all the data that has reclong >= minrecLong AND reclong <= maxrecLong AND reclat >= minrecLat AND reclat <= maxrecLat\n",
    "        region_mask = (meteor_landing_new['reclong']>=minrecLong) & (meteor_landing_new['reclong']<=maxrecLong) &\\\n",
    "            (meteor_landing_new['reclat']>=minrecLat) & (meteor_landing_new['reclat']<=maxrecLat)\n",
    "        # update x/y based on new selection\n",
    "        mass, mass_edges = np.histogram(meteor_landing_new['ext_year'][region_mask], \n",
    "                                     weights=meteor_landing_new['mass'][region_mask], bins=10) \n",
    "        mass_centers = (mass_edges[:-1] + mass_edges[1:])/2 #Finding out the center for our histogram\n",
    "        mass_hist.x=mass_centers\n",
    "        mass_hist.y=mass\n",
    "        \n",
    "heat_map.observe(on_selection,'selected')"
   ]
  },
  {
   "cell_type": "code",
   "execution_count": 95,
   "id": "42c067b9",
   "metadata": {},
   "outputs": [],
   "source": [
    "figures = ipywidgets.HBox([fig,fig_bars])\n",
    "fig.layout.min_width='400px'\n",
    "fig_bars.layout.min_width='600px'\n",
    "dashboard = ipywidgets.VBox([myLabel,figures])"
   ]
  },
  {
   "cell_type": "code",
   "execution_count": 96,
   "id": "2c5359ba",
   "metadata": {},
   "outputs": [
    {
     "data": {
      "application/vnd.jupyter.widget-view+json": {
       "model_id": "e84f5504827e4b649ecd2b41278154bd",
       "version_major": 2,
       "version_minor": 0
      },
      "text/plain": [
       "VBox(children=(Label(value=''), HBox(children=(Figure(axes=[ColorAxis(orientation='vertical', scale=ColorScale…"
      ]
     },
     "metadata": {},
     "output_type": "display_data"
    }
   ],
   "source": [
    "dashboard"
   ]
  },
  {
   "cell_type": "markdown",
   "id": "638c17c6",
   "metadata": {},
   "source": [
    "### One paragraph explaining how to use the dashboard you created, to help someone who is not an expert understand your dataset.\n",
    "\n",
    "So now that we have built the dataset, the end-user who is going to used this dashboard for analysis purposes has to simply select a grid from the grid heat map. This selection will filter a particular latitide and longitude for the histogram to plot the total mass for that group of years binned together. The grid heatmap on the left side has a legend on the right side which starts from 1 and end with 7 with colors varying from red->yellow->green. More red means the total mass of meteorites for that selected bin is lesser and as the grid colors changes from yellow to green the total mass of the meteorites increases for that selection. To make dashboard interactive, when a user selects the grid it's coded to be changed to 'cyan' color, this will help the user to know which particular grid is in sleection as that current point of time. The histogram which we will see on that right hand side will have the sum of mass of meteorites for that binned years together."
   ]
  },
  {
   "cell_type": "markdown",
   "id": "507a44e6",
   "metadata": {},
   "source": [
    "### A list of 1 or more contextual datasets you have identified, links to where they reside, and a sentence about why they might be useful in telling the final story.\n",
    "\n",
    "Now that we have analysed the meteorite landings dataset, it would be interesting to see if there has been any effect on earth's temperature because of the frequent meteroite landings.\n",
    "\n",
    "In the dataset which we can find on climate.nasa.gov website we have 3 fields - first one being the year, second one is the global temperature increase since 1880 till 2021. Since, in our meteorite landings dataset we have data from 1688 to 2013, it would be interesting to see how the earth's global temperature has increase/decreased with respect to the meteorite landings. We can club total number of meteroite landings in group of decades and also take average of increase and decrease in temperature for each decade and see if there is a direct relationship between the two. This will help us to understand the story and relationship between the two.\n",
    "\n",
    "Main dataset description page\n",
    "https://climate.nasa.gov/vital-signs/global-temperature/\n",
    "\n",
    "Dataset page\n",
    "https://data.giss.nasa.gov/gistemp/graphs/graph_data/Global_Mean_Estimates_based_on_Land_and_Ocean_Data/graph.txt"
   ]
  },
  {
   "cell_type": "markdown",
   "id": "b01e4711",
   "metadata": {},
   "source": [
    "### References\n",
    "https://data.nasa.gov/resource/gh4g-9sfh.json\n",
    "\n",
    "https://www.w3schools.com/python/matplotlib_pie_charts.asp\n",
    "\n",
    "https://data.nasa.gov/resource/gh4g-9sfh.json\n",
    "\n",
    "https://www.nasa.gov/about/highlights/HP_Privacy.html\n",
    "\n",
    "https://realpython.com/visualizing-python-plt-scatter/\n",
    "\n",
    "https://realpython.com/python-histograms/ \n",
    "\n",
    "\n",
    "In-class notebook and Prep notebook for week 7 was also reference to build the interactivity between the grid heatmap and scatterplot and bar graph.\n",
    "\n",
    "https://uiuc-ischool-dataviz.github.io/is445_spring2022/nbv.html?notebook_name=%2Fis445_spring2022%2Fweek07%2FinClass_week07.ipynb\n",
    "\n",
    "https://uiuc-ischool-dataviz.github.io/is445_spring2022/nbv.html?notebook_name=%2Fis445_spring2022%2Fweek07%2Fprep_notebook_week07_part1.ipynb\n",
    "\n",
    "https://uiuc-ischool-dataviz.github.io/is445_spring2022/nbv.html?notebook_name=%2Fis445_spring2022%2Fweek07%2Fprep_notebook_week07_part2.ipynb"
   ]
  },
  {
   "cell_type": "code",
   "execution_count": null,
   "id": "7fcc9480",
   "metadata": {},
   "outputs": [],
   "source": []
  }
 ],
 "metadata": {
  "kernelspec": {
   "display_name": "Python 3 (ipykernel)",
   "language": "python",
   "name": "python3"
  },
  "language_info": {
   "codemirror_mode": {
    "name": "ipython",
    "version": 3
   },
   "file_extension": ".py",
   "mimetype": "text/x-python",
   "name": "python",
   "nbconvert_exporter": "python",
   "pygments_lexer": "ipython3",
   "version": "3.7.12"
  }
 },
 "nbformat": 4,
 "nbformat_minor": 5
}
